{
 "cells": [
  {
   "cell_type": "code",
   "execution_count": 1,
   "id": "e353adb8",
   "metadata": {
    "_cell_guid": "b1076dfc-b9ad-4769-8c92-a6c4dae69d19",
    "_uuid": "8f2839f25d086af736a60e9eeb907d3b93b6e0e5",
    "execution": {
     "iopub.execute_input": "2022-12-18T10:51:35.508116Z",
     "iopub.status.busy": "2022-12-18T10:51:35.507286Z",
     "iopub.status.idle": "2022-12-18T10:51:38.661202Z",
     "shell.execute_reply": "2022-12-18T10:51:38.659879Z"
    },
    "papermill": {
     "duration": 3.167355,
     "end_time": "2022-12-18T10:51:38.664560",
     "exception": false,
     "start_time": "2022-12-18T10:51:35.497205",
     "status": "completed"
    },
    "tags": []
   },
   "outputs": [
    {
     "name": "stdout",
     "output_type": "stream",
     "text": [
      "/kaggle/input/crickalike/shot_categorization.csv\n",
      "/kaggle/input/crickalike/event_classifier.csv\n"
     ]
    }
   ],
   "source": [
    "# General Data Science Libraries\n",
    "import numpy as np\n",
    "import pandas as pd\n",
    "from imblearn.over_sampling import SMOTE\n",
    "import warnings\n",
    "import pickle\n",
    "import matplotlib.pyplot as plt\n",
    "import seaborn as sns\n",
    "\n",
    "# Machine Learning Libraries\n",
    "import sklearn as sk\n",
    "from sklearn.feature_extraction.text import TfidfVectorizer\n",
    "from sklearn import preprocessing\n",
    "from sklearn.model_selection import train_test_split\n",
    "from hyperopt import STATUS_OK, Trials, fmin, hp, tpe\n",
    "from sklearn.decomposition import PCA\n",
    "from sklearn.metrics import classification_report, confusion_matrix\n",
    "from sklearn.metrics import accuracy_score, log_loss\n",
    "from sklearn.neighbors import KNeighborsClassifier\n",
    "from sklearn.svm import SVC, LinearSVC, NuSVC\n",
    "from sklearn.tree import DecisionTreeClassifier\n",
    "from sklearn.ensemble import RandomForestClassifier, AdaBoostClassifier, GradientBoostingClassifier\n",
    "from sklearn.naive_bayes import GaussianNB\n",
    "from sklearn.discriminant_analysis import LinearDiscriminantAnalysis\n",
    "from sklearn.discriminant_analysis import QuadraticDiscriminantAnalysis\n",
    "from xgboost import XGBClassifier\n",
    "import xgboost\n",
    "\n",
    "\n",
    "# Natural Language Processing Libraries\n",
    "from gensim.parsing.preprocessing import remove_stopwords\n",
    "from nltk.stem import PorterStemmer  \n",
    "from sklearn.feature_extraction.text import TfidfVectorizer\n",
    "import re\n",
    "\n",
    "import os\n",
    "for dirname, _, filenames in os.walk('/kaggle/input'):\n",
    "    for filename in filenames:\n",
    "        print(os.path.join(dirname, filename))\n",
    "\n",
    "warnings.filterwarnings('ignore')"
   ]
  },
  {
   "cell_type": "code",
   "execution_count": 2,
   "id": "94fa7edd",
   "metadata": {
    "execution": {
     "iopub.execute_input": "2022-12-18T10:51:38.681207Z",
     "iopub.status.busy": "2022-12-18T10:51:38.680770Z",
     "iopub.status.idle": "2022-12-18T10:51:38.726011Z",
     "shell.execute_reply": "2022-12-18T10:51:38.724768Z"
    },
    "papermill": {
     "duration": 0.056355,
     "end_time": "2022-12-18T10:51:38.728579",
     "exception": false,
     "start_time": "2022-12-18T10:51:38.672224",
     "status": "completed"
    },
    "tags": []
   },
   "outputs": [
    {
     "data": {
      "text/plain": [
       "(1372, 2)"
      ]
     },
     "execution_count": 2,
     "metadata": {},
     "output_type": "execute_result"
    }
   ],
   "source": [
    "df = pd.read_csv('../input/crickalike/shot_categorization.csv', index_col = [0])\n",
    "df.head()\n",
    "df.shape"
   ]
  },
  {
   "cell_type": "code",
   "execution_count": 3,
   "id": "26ce4df8",
   "metadata": {
    "execution": {
     "iopub.execute_input": "2022-12-18T10:51:38.746269Z",
     "iopub.status.busy": "2022-12-18T10:51:38.744768Z",
     "iopub.status.idle": "2022-12-18T10:51:38.753116Z",
     "shell.execute_reply": "2022-12-18T10:51:38.752146Z"
    },
    "papermill": {
     "duration": 0.019302,
     "end_time": "2022-12-18T10:51:38.755384",
     "exception": false,
     "start_time": "2022-12-18T10:51:38.736082",
     "status": "completed"
    },
    "tags": []
   },
   "outputs": [],
   "source": [
    "def text_cleaning(df, column):\n",
    "    df_column_array = np.array(df[column])\n",
    "    text = []\n",
    "    ps = PorterStemmer()\n",
    "    for index in range(len(df_column_array)):\n",
    "        modifiedText = remove_stopwords(df.at[index, column])\n",
    "        stemmedSentence = \"\"\n",
    "        for word in modifiedText.split():\n",
    "            word = re.sub(r\"[^a-zA-Z]+\", '', word)\n",
    "            word = word.strip()\n",
    "            word = word.lower()\n",
    "            word = ps.stem(word)\n",
    "            word = word.strip()\n",
    "            stemmedSentence += word\n",
    "            stemmedSentence += \" \"\n",
    "        df.at[index, column] = stemmedSentence"
   ]
  },
  {
   "cell_type": "code",
   "execution_count": 4,
   "id": "1070b68f",
   "metadata": {
    "execution": {
     "iopub.execute_input": "2022-12-18T10:51:38.772147Z",
     "iopub.status.busy": "2022-12-18T10:51:38.771703Z",
     "iopub.status.idle": "2022-12-18T10:51:39.472857Z",
     "shell.execute_reply": "2022-12-18T10:51:39.471541Z"
    },
    "papermill": {
     "duration": 0.712684,
     "end_time": "2022-12-18T10:51:39.475543",
     "exception": false,
     "start_time": "2022-12-18T10:51:38.762859",
     "status": "completed"
    },
    "tags": []
   },
   "outputs": [
    {
     "data": {
      "text/html": [
       "<div>\n",
       "<style scoped>\n",
       "    .dataframe tbody tr th:only-of-type {\n",
       "        vertical-align: middle;\n",
       "    }\n",
       "\n",
       "    .dataframe tbody tr th {\n",
       "        vertical-align: top;\n",
       "    }\n",
       "\n",
       "    .dataframe thead th {\n",
       "        text-align: right;\n",
       "    }\n",
       "</style>\n",
       "<table border=\"1\" class=\"dataframe\">\n",
       "  <thead>\n",
       "    <tr style=\"text-align: right;\">\n",
       "      <th></th>\n",
       "      <th>commentary</th>\n",
       "      <th>target</th>\n",
       "    </tr>\n",
       "  </thead>\n",
       "  <tbody>\n",
       "    <tr>\n",
       "      <th>0</th>\n",
       "      <td>shamsi samson  run south africa win  run shams...</td>\n",
       "      <td>0</td>\n",
       "    </tr>\n",
       "    <tr>\n",
       "      <th>1</th>\n",
       "      <td>shamsi samson four drill toss off samson come ...</td>\n",
       "      <td>1</td>\n",
       "    </tr>\n",
       "    <tr>\n",
       "      <th>2</th>\n",
       "      <td>shamsi samson run no cant  legal deliveri sham...</td>\n",
       "      <td>0</td>\n",
       "    </tr>\n",
       "    <tr>\n",
       "      <th>3</th>\n",
       "      <td>shamsi samson four hattrick boundari samson fl...</td>\n",
       "      <td>1</td>\n",
       "    </tr>\n",
       "    <tr>\n",
       "      <th>4</th>\n",
       "      <td>shamsi samson four backtoback boundari samson ...</td>\n",
       "      <td>1</td>\n",
       "    </tr>\n",
       "  </tbody>\n",
       "</table>\n",
       "</div>"
      ],
      "text/plain": [
       "                                          commentary  target\n",
       "0  shamsi samson  run south africa win  run shams...       0\n",
       "1  shamsi samson four drill toss off samson come ...       1\n",
       "2  shamsi samson run no cant  legal deliveri sham...       0\n",
       "3  shamsi samson four hattrick boundari samson fl...       1\n",
       "4  shamsi samson four backtoback boundari samson ...       1"
      ]
     },
     "execution_count": 4,
     "metadata": {},
     "output_type": "execute_result"
    }
   ],
   "source": [
    "text_cleaning(df, 'commentary')\n",
    "df.head()"
   ]
  },
  {
   "cell_type": "code",
   "execution_count": 5,
   "id": "9462a9fe",
   "metadata": {
    "execution": {
     "iopub.execute_input": "2022-12-18T10:51:39.492253Z",
     "iopub.status.busy": "2022-12-18T10:51:39.491788Z",
     "iopub.status.idle": "2022-12-18T10:51:39.498373Z",
     "shell.execute_reply": "2022-12-18T10:51:39.497359Z"
    },
    "papermill": {
     "duration": 0.018157,
     "end_time": "2022-12-18T10:51:39.501226",
     "exception": false,
     "start_time": "2022-12-18T10:51:39.483069",
     "status": "completed"
    },
    "tags": []
   },
   "outputs": [],
   "source": [
    "def vectorize(data, tfidf_vect_fit):\n",
    "    x_tfidf = tfidf_vect_fit.transform(data)\n",
    "    words = tfidf_vect_fit.get_feature_names()\n",
    "    x_tfidf_df = pd.DataFrame(x_tfidf.toarray())\n",
    "    x_tfidf_df.columns = words\n",
    "    return (x_tfidf_df)"
   ]
  },
  {
   "cell_type": "code",
   "execution_count": 6,
   "id": "646f2aa2",
   "metadata": {
    "execution": {
     "iopub.execute_input": "2022-12-18T10:51:39.518380Z",
     "iopub.status.busy": "2022-12-18T10:51:39.517979Z",
     "iopub.status.idle": "2022-12-18T10:51:39.840064Z",
     "shell.execute_reply": "2022-12-18T10:51:39.838883Z"
    },
    "papermill": {
     "duration": 0.334017,
     "end_time": "2022-12-18T10:51:39.842746",
     "exception": false,
     "start_time": "2022-12-18T10:51:39.508729",
     "status": "completed"
    },
    "tags": []
   },
   "outputs": [
    {
     "data": {
      "text/html": [
       "<div>\n",
       "<style scoped>\n",
       "    .dataframe tbody tr th:only-of-type {\n",
       "        vertical-align: middle;\n",
       "    }\n",
       "\n",
       "    .dataframe tbody tr th {\n",
       "        vertical-align: top;\n",
       "    }\n",
       "\n",
       "    .dataframe thead th {\n",
       "        text-align: right;\n",
       "    }\n",
       "</style>\n",
       "<table border=\"1\" class=\"dataframe\">\n",
       "  <thead>\n",
       "    <tr style=\"text-align: right;\">\n",
       "      <th></th>\n",
       "      <th>target</th>\n",
       "      <th>across</th>\n",
       "      <th>advanc</th>\n",
       "      <th>africa</th>\n",
       "      <th>again</th>\n",
       "      <th>ahm</th>\n",
       "      <th>ahm hendrick</th>\n",
       "      <th>ahm janneman</th>\n",
       "      <th>ahm klaasen</th>\n",
       "      <th>ahm marco</th>\n",
       "      <th>...</th>\n",
       "      <th>wrong</th>\n",
       "      <th>wrong un</th>\n",
       "      <th>yadav</th>\n",
       "      <th>yadav hendrick</th>\n",
       "      <th>yadav klaasen</th>\n",
       "      <th>yadav kock</th>\n",
       "      <th>yadav marco</th>\n",
       "      <th>yadav markram</th>\n",
       "      <th>yadav miller</th>\n",
       "      <th>yorker</th>\n",
       "    </tr>\n",
       "  </thead>\n",
       "  <tbody>\n",
       "    <tr>\n",
       "      <th>0</th>\n",
       "      <td>0</td>\n",
       "      <td>0.0</td>\n",
       "      <td>0.0</td>\n",
       "      <td>0.24141</td>\n",
       "      <td>0.0</td>\n",
       "      <td>0.0</td>\n",
       "      <td>0.0</td>\n",
       "      <td>0.0</td>\n",
       "      <td>0.0</td>\n",
       "      <td>0.0</td>\n",
       "      <td>...</td>\n",
       "      <td>0.0</td>\n",
       "      <td>0.0</td>\n",
       "      <td>0.0</td>\n",
       "      <td>0.0</td>\n",
       "      <td>0.0</td>\n",
       "      <td>0.0</td>\n",
       "      <td>0.0</td>\n",
       "      <td>0.0</td>\n",
       "      <td>0.0</td>\n",
       "      <td>0.0</td>\n",
       "    </tr>\n",
       "    <tr>\n",
       "      <th>1</th>\n",
       "      <td>1</td>\n",
       "      <td>0.0</td>\n",
       "      <td>0.0</td>\n",
       "      <td>0.00000</td>\n",
       "      <td>0.0</td>\n",
       "      <td>0.0</td>\n",
       "      <td>0.0</td>\n",
       "      <td>0.0</td>\n",
       "      <td>0.0</td>\n",
       "      <td>0.0</td>\n",
       "      <td>...</td>\n",
       "      <td>0.0</td>\n",
       "      <td>0.0</td>\n",
       "      <td>0.0</td>\n",
       "      <td>0.0</td>\n",
       "      <td>0.0</td>\n",
       "      <td>0.0</td>\n",
       "      <td>0.0</td>\n",
       "      <td>0.0</td>\n",
       "      <td>0.0</td>\n",
       "      <td>0.0</td>\n",
       "    </tr>\n",
       "    <tr>\n",
       "      <th>2</th>\n",
       "      <td>0</td>\n",
       "      <td>0.0</td>\n",
       "      <td>0.0</td>\n",
       "      <td>0.00000</td>\n",
       "      <td>0.0</td>\n",
       "      <td>0.0</td>\n",
       "      <td>0.0</td>\n",
       "      <td>0.0</td>\n",
       "      <td>0.0</td>\n",
       "      <td>0.0</td>\n",
       "      <td>...</td>\n",
       "      <td>0.0</td>\n",
       "      <td>0.0</td>\n",
       "      <td>0.0</td>\n",
       "      <td>0.0</td>\n",
       "      <td>0.0</td>\n",
       "      <td>0.0</td>\n",
       "      <td>0.0</td>\n",
       "      <td>0.0</td>\n",
       "      <td>0.0</td>\n",
       "      <td>0.0</td>\n",
       "    </tr>\n",
       "    <tr>\n",
       "      <th>3</th>\n",
       "      <td>1</td>\n",
       "      <td>0.0</td>\n",
       "      <td>0.0</td>\n",
       "      <td>0.00000</td>\n",
       "      <td>0.0</td>\n",
       "      <td>0.0</td>\n",
       "      <td>0.0</td>\n",
       "      <td>0.0</td>\n",
       "      <td>0.0</td>\n",
       "      <td>0.0</td>\n",
       "      <td>...</td>\n",
       "      <td>0.0</td>\n",
       "      <td>0.0</td>\n",
       "      <td>0.0</td>\n",
       "      <td>0.0</td>\n",
       "      <td>0.0</td>\n",
       "      <td>0.0</td>\n",
       "      <td>0.0</td>\n",
       "      <td>0.0</td>\n",
       "      <td>0.0</td>\n",
       "      <td>0.0</td>\n",
       "    </tr>\n",
       "    <tr>\n",
       "      <th>4</th>\n",
       "      <td>1</td>\n",
       "      <td>0.0</td>\n",
       "      <td>0.0</td>\n",
       "      <td>0.00000</td>\n",
       "      <td>0.0</td>\n",
       "      <td>0.0</td>\n",
       "      <td>0.0</td>\n",
       "      <td>0.0</td>\n",
       "      <td>0.0</td>\n",
       "      <td>0.0</td>\n",
       "      <td>...</td>\n",
       "      <td>0.0</td>\n",
       "      <td>0.0</td>\n",
       "      <td>0.0</td>\n",
       "      <td>0.0</td>\n",
       "      <td>0.0</td>\n",
       "      <td>0.0</td>\n",
       "      <td>0.0</td>\n",
       "      <td>0.0</td>\n",
       "      <td>0.0</td>\n",
       "      <td>0.0</td>\n",
       "    </tr>\n",
       "  </tbody>\n",
       "</table>\n",
       "<p>5 rows × 901 columns</p>\n",
       "</div>"
      ],
      "text/plain": [
       "   target  across  advanc   africa  again  ahm  ahm hendrick  ahm janneman  \\\n",
       "0       0     0.0     0.0  0.24141    0.0  0.0           0.0           0.0   \n",
       "1       1     0.0     0.0  0.00000    0.0  0.0           0.0           0.0   \n",
       "2       0     0.0     0.0  0.00000    0.0  0.0           0.0           0.0   \n",
       "3       1     0.0     0.0  0.00000    0.0  0.0           0.0           0.0   \n",
       "4       1     0.0     0.0  0.00000    0.0  0.0           0.0           0.0   \n",
       "\n",
       "   ahm klaasen  ahm marco  ...  wrong  wrong un  yadav  yadav hendrick  \\\n",
       "0          0.0        0.0  ...    0.0       0.0    0.0             0.0   \n",
       "1          0.0        0.0  ...    0.0       0.0    0.0             0.0   \n",
       "2          0.0        0.0  ...    0.0       0.0    0.0             0.0   \n",
       "3          0.0        0.0  ...    0.0       0.0    0.0             0.0   \n",
       "4          0.0        0.0  ...    0.0       0.0    0.0             0.0   \n",
       "\n",
       "   yadav klaasen  yadav kock  yadav marco  yadav markram  yadav miller  yorker  \n",
       "0            0.0         0.0          0.0            0.0           0.0     0.0  \n",
       "1            0.0         0.0          0.0            0.0           0.0     0.0  \n",
       "2            0.0         0.0          0.0            0.0           0.0     0.0  \n",
       "3            0.0         0.0          0.0            0.0           0.0     0.0  \n",
       "4            0.0         0.0          0.0            0.0           0.0     0.0  \n",
       "\n",
       "[5 rows x 901 columns]"
      ]
     },
     "execution_count": 6,
     "metadata": {},
     "output_type": "execute_result"
    }
   ],
   "source": [
    "tfidf_vect = TfidfVectorizer(analyzer = 'word', stop_words = None, ngram_range=(1, 2), max_df = 0.5, use_idf = True, smooth_idf = True, max_features = 900)\n",
    "tfidf_vect_fit = tfidf_vect.fit(df['commentary'])\n",
    "\n",
    "df.reset_index(drop = True, inplace = True)\n",
    "df_temp = vectorize(df['commentary'], tfidf_vect_fit)\n",
    "df_temp.reset_index(drop = True, inplace = True)\n",
    "\n",
    "df = pd.concat([df, df_temp], axis = 1)\n",
    "\n",
    "df.drop(columns = ['commentary'], inplace = True)\n",
    "\n",
    "df.head()"
   ]
  },
  {
   "cell_type": "code",
   "execution_count": 7,
   "id": "25dd311b",
   "metadata": {
    "execution": {
     "iopub.execute_input": "2022-12-18T10:51:39.862728Z",
     "iopub.status.busy": "2022-12-18T10:51:39.861794Z",
     "iopub.status.idle": "2022-12-18T10:51:40.161068Z",
     "shell.execute_reply": "2022-12-18T10:51:40.160173Z"
    },
    "papermill": {
     "duration": 0.313019,
     "end_time": "2022-12-18T10:51:40.164037",
     "exception": false,
     "start_time": "2022-12-18T10:51:39.851018",
     "status": "completed"
    },
    "tags": []
   },
   "outputs": [],
   "source": [
    "smote_over_sample = SMOTE(sampling_strategy = 'minority')\n",
    "x, y = smote_over_sample.fit_resample(df.drop(columns = 'target'), df['target'])\n",
    "\n",
    "x_train, x_test, y_train, y_test = train_test_split(x, y,stratify = y, random_state = 1)"
   ]
  },
  {
   "cell_type": "code",
   "execution_count": 8,
   "id": "66e03fc1",
   "metadata": {
    "execution": {
     "iopub.execute_input": "2022-12-18T10:51:40.182639Z",
     "iopub.status.busy": "2022-12-18T10:51:40.181429Z",
     "iopub.status.idle": "2022-12-18T10:51:49.748503Z",
     "shell.execute_reply": "2022-12-18T10:51:49.746860Z"
    },
    "papermill": {
     "duration": 9.581572,
     "end_time": "2022-12-18T10:51:49.753663",
     "exception": false,
     "start_time": "2022-12-18T10:51:40.172091",
     "status": "completed"
    },
    "tags": []
   },
   "outputs": [
    {
     "name": "stdout",
     "output_type": "stream",
     "text": [
      "==============================\n",
      "KNeighborsClassifier\n",
      "Accuracy: 84.5378%\n",
      "Log Loss: 2.5273030879762164\n",
      "==============================\n",
      "DecisionTreeClassifier\n",
      "Accuracy: 99.4958%\n",
      "Log Loss: 0.1741450910667775\n",
      "==============================\n",
      "RandomForestClassifier\n",
      "Accuracy: 98.9916%\n",
      "Log Loss: 0.08065010129187176\n",
      "==============================\n",
      "XGBClassifier\n",
      "Accuracy: 99.1597%\n",
      "Log Loss: 0.030503498341623074\n",
      "==============================\n",
      "AdaBoostClassifier\n",
      "Accuracy: 99.1597%\n",
      "Log Loss: 0.44429766450563013\n",
      "==============================\n",
      "GradientBoostingClassifier\n",
      "Accuracy: 98.8235%\n",
      "Log Loss: 0.03876306057506493\n",
      "==============================\n",
      "GaussianNB\n",
      "Accuracy: 98.6555%\n",
      "Log Loss: 0.4643869095114051\n",
      "==============================\n",
      "LinearDiscriminantAnalysis\n",
      "Accuracy: 97.9832%\n",
      "Log Loss: 0.696580364267112\n",
      "==============================\n"
     ]
    }
   ],
   "source": [
    "from sklearn.metrics import accuracy_score, log_loss\n",
    "from sklearn.neighbors import KNeighborsClassifier\n",
    "from sklearn.svm import SVC, LinearSVC, NuSVC\n",
    "from sklearn.tree import DecisionTreeClassifier\n",
    "from sklearn.ensemble import RandomForestClassifier, AdaBoostClassifier, GradientBoostingClassifier\n",
    "from sklearn.naive_bayes import GaussianNB\n",
    "from sklearn.discriminant_analysis import LinearDiscriminantAnalysis\n",
    "from sklearn.discriminant_analysis import QuadraticDiscriminantAnalysis\n",
    "from xgboost import XGBClassifier\n",
    "import xgboost\n",
    "\n",
    "classifiers = [\n",
    "    KNeighborsClassifier(3),\n",
    "    DecisionTreeClassifier(),\n",
    "    RandomForestClassifier(),\n",
    "    XGBClassifier(),\n",
    "    AdaBoostClassifier(),\n",
    "    GradientBoostingClassifier(),\n",
    "    GaussianNB(),\n",
    "    LinearDiscriminantAnalysis()]\n",
    "\n",
    "# Logging for Visual Comparison\n",
    "log_cols=[\"Classifier\", \"Accuracy\", \"Log Loss\"]\n",
    "log = pd.DataFrame(columns=log_cols)\n",
    "\n",
    "for clf in classifiers:\n",
    "    clf.fit(x_train, y_train)\n",
    "    name = clf.__class__.__name__\n",
    "    \n",
    "    print(\"=\"*30)\n",
    "    print(name)\n",
    "    \n",
    "    train_predictions = clf.predict(x_test)\n",
    "    acc = accuracy_score(y_test, train_predictions)\n",
    "    print(\"Accuracy: {:.4%}\".format(acc))\n",
    "    \n",
    "    train_predictions = clf.predict_proba(x_test)\n",
    "    ll = log_loss(y_test, train_predictions)\n",
    "    print(\"Log Loss: {}\".format(ll))\n",
    "    \n",
    "    log_entry = pd.DataFrame([[name, acc*100, ll]], columns=log_cols)\n",
    "    log = log.append(log_entry)\n",
    "    \n",
    "print(\"=\"*30)"
   ]
  },
  {
   "cell_type": "code",
   "execution_count": 9,
   "id": "4bf140b4",
   "metadata": {
    "execution": {
     "iopub.execute_input": "2022-12-18T10:51:49.812982Z",
     "iopub.status.busy": "2022-12-18T10:51:49.811953Z",
     "iopub.status.idle": "2022-12-18T10:51:50.342913Z",
     "shell.execute_reply": "2022-12-18T10:51:50.342070Z"
    },
    "papermill": {
     "duration": 0.556601,
     "end_time": "2022-12-18T10:51:50.345178",
     "exception": false,
     "start_time": "2022-12-18T10:51:49.788577",
     "status": "completed"
    },
    "tags": []
   },
   "outputs": [
    {
     "data": {
      "image/png": "[encoded data removed]",
      "text/plain": [
       "<Figure size 432x288 with 1 Axes>"
      ]
     },
     "metadata": {
      "needs_background": "light"
     },
     "output_type": "display_data"
    },
    {
     "data": {
      "image/png": "[encoded data removed]",
      "text/plain": [
       "<Figure size 432x288 with 1 Axes>"
      ]
     },
     "metadata": {
      "needs_background": "light"
     },
     "output_type": "display_data"
    }
   ],
   "source": [
    "sns.set_color_codes(\"muted\")\n",
    "sns.barplot(x='Accuracy', y='Classifier', data=log, color=\"b\")\n",
    "\n",
    "plt.xlabel('Accuracy %')\n",
    "plt.title('Classifier Accuracy - Shot Categorization')\n",
    "plt.show()\n",
    "\n",
    "sns.set_color_codes(\"muted\")\n",
    "sns.barplot(x='Log Loss', y='Classifier', data=log, color=\"g\")\n",
    "\n",
    "plt.xlabel('Log Loss')\n",
    "plt.title('Classifier Log Loss - Shot Categorization')\n",
    "plt.show()"
   ]
  },
  {
   "cell_type": "code",
   "execution_count": 10,
   "id": "caadab0b",
   "metadata": {
    "execution": {
     "iopub.execute_input": "2022-12-18T10:51:50.365794Z",
     "iopub.status.busy": "2022-12-18T10:51:50.365112Z",
     "iopub.status.idle": "2022-12-18T10:51:50.370550Z",
     "shell.execute_reply": "2022-12-18T10:51:50.369437Z"
    },
    "papermill": {
     "duration": 0.018675,
     "end_time": "2022-12-18T10:51:50.373030",
     "exception": false,
     "start_time": "2022-12-18T10:51:50.354355",
     "status": "completed"
    },
    "tags": []
   },
   "outputs": [
    {
     "name": "stdout",
     "output_type": "stream",
     "text": [
      "2380\n",
      "1785\n",
      "595\n"
     ]
    }
   ],
   "source": [
    "print(len(x))\n",
    "print(len(x_train))\n",
    "print(len(x_test))"
   ]
  },
  {
   "cell_type": "code",
   "execution_count": 11,
   "id": "e1266364",
   "metadata": {
    "execution": {
     "iopub.execute_input": "2022-12-18T10:51:50.393644Z",
     "iopub.status.busy": "2022-12-18T10:51:50.392677Z",
     "iopub.status.idle": "2022-12-18T10:51:53.228825Z",
     "shell.execute_reply": "2022-12-18T10:51:53.227901Z"
    },
    "papermill": {
     "duration": 2.849354,
     "end_time": "2022-12-18T10:51:53.231572",
     "exception": false,
     "start_time": "2022-12-18T10:51:50.382218",
     "status": "completed"
    },
    "tags": []
   },
   "outputs": [
    {
     "name": "stdout",
     "output_type": "stream",
     "text": [
      "0.9915966386554622\n"
     ]
    }
   ],
   "source": [
    "model = XGBClassifier(random_state = 42)\n",
    "\n",
    "model.fit(x_train, y_train)\n",
    "\n",
    "y_pred = model.predict(x_test)\n",
    "\n",
    "print(accuracy_score(y_test, y_pred))"
   ]
  },
  {
   "cell_type": "code",
   "execution_count": 12,
   "id": "3ddd51da",
   "metadata": {
    "execution": {
     "iopub.execute_input": "2022-12-18T10:51:53.253005Z",
     "iopub.status.busy": "2022-12-18T10:51:53.252597Z",
     "iopub.status.idle": "2022-12-18T10:51:53.258363Z",
     "shell.execute_reply": "2022-12-18T10:51:53.257172Z"
    },
    "papermill": {
     "duration": 0.01926,
     "end_time": "2022-12-18T10:51:53.261446",
     "exception": false,
     "start_time": "2022-12-18T10:51:53.242186",
     "status": "completed"
    },
    "tags": []
   },
   "outputs": [
    {
     "name": "stdout",
     "output_type": "stream",
     "text": [
      "1785\n"
     ]
    }
   ],
   "source": [
    "print(len(y_train))"
   ]
  },
  {
   "cell_type": "code",
   "execution_count": 13,
   "id": "8f5dc95b",
   "metadata": {
    "execution": {
     "iopub.execute_input": "2022-12-18T10:51:53.281384Z",
     "iopub.status.busy": "2022-12-18T10:51:53.281007Z",
     "iopub.status.idle": "2022-12-18T10:51:53.286098Z",
     "shell.execute_reply": "2022-12-18T10:51:53.285253Z"
    },
    "papermill": {
     "duration": 0.017882,
     "end_time": "2022-12-18T10:51:53.288507",
     "exception": false,
     "start_time": "2022-12-18T10:51:53.270625",
     "status": "completed"
    },
    "tags": []
   },
   "outputs": [
    {
     "name": "stdout",
     "output_type": "stream",
     "text": [
      "595\n",
      "298\n"
     ]
    }
   ],
   "source": [
    "print(len(y_test))\n",
    "print(sum(y_test))"
   ]
  },
  {
   "cell_type": "code",
   "execution_count": 14,
   "id": "3dde6a32",
   "metadata": {
    "execution": {
     "iopub.execute_input": "2022-12-18T10:51:53.309461Z",
     "iopub.status.busy": "2022-12-18T10:51:53.308419Z",
     "iopub.status.idle": "2022-12-18T10:51:53.562892Z",
     "shell.execute_reply": "2022-12-18T10:51:53.561680Z"
    },
    "papermill": {
     "duration": 0.267594,
     "end_time": "2022-12-18T10:51:53.565371",
     "exception": false,
     "start_time": "2022-12-18T10:51:53.297777",
     "status": "completed"
    },
    "tags": []
   },
   "outputs": [
    {
     "data": {
      "image/png": "[encoded data removed]",
      "text/plain": [
       "<Figure size 432x288 with 2 Axes>"
      ]
     },
     "metadata": {
      "needs_background": "light"
     },
     "output_type": "display_data"
    },
    {
     "data": {
      "text/plain": [
       "<Figure size 432x288 with 0 Axes>"
      ]
     },
     "metadata": {},
     "output_type": "display_data"
    }
   ],
   "source": [
    "Cm=confusion_matrix(y_test, y_pred)\n",
    "ax=plt.axes()\n",
    "sns.heatmap(Cm, annot = True, annot_kws = {'size':10}, ax = ax)\n",
    "plt.title(\"Confusion Metrics\")\n",
    "ax.set_xlabel('Predicted labels');ax.set_ylabel('True labels'); \n",
    "ax.set_title('Shot Categorization'); \n",
    "ax.xaxis.set_ticklabels(['Skip', 'Show']); ax.yaxis.set_ticklabels(['Show', 'Skip']);\n",
    "plt.show()\n",
    "plt.savefig('sc_cm.png')"
   ]
  },
  {
   "cell_type": "code",
   "execution_count": 15,
   "id": "9daa0c53",
   "metadata": {
    "execution": {
     "iopub.execute_input": "2022-12-18T10:51:53.587150Z",
     "iopub.status.busy": "2022-12-18T10:51:53.586693Z",
     "iopub.status.idle": "2022-12-18T10:51:53.609402Z",
     "shell.execute_reply": "2022-12-18T10:51:53.608516Z"
    },
    "papermill": {
     "duration": 0.036172,
     "end_time": "2022-12-18T10:51:53.611505",
     "exception": false,
     "start_time": "2022-12-18T10:51:53.575333",
     "status": "completed"
    },
    "tags": []
   },
   "outputs": [],
   "source": [
    "import matplotlib.pyplot as plt\n",
    "import numpy as np\n",
    "\n",
    "def show_values(pc, fmt=\"%.2f\", **kw):\n",
    "    '''\n",
    "    Heatmap with text in each cell with matplotlib's pyplot\n",
    "    Source: https://stackoverflow.com/a/25074150/395857 \n",
    "    By HYRY\n",
    "    '''\n",
    "    from itertools import izip\n",
    "    pc.update_scalarmappable()\n",
    "    ax = pc.get_axes()\n",
    "    #ax = pc.axes# FOR LATEST MATPLOTLIB\n",
    "    #Use zip BELOW IN PYTHON 3\n",
    "    for p, color, value in izip(pc.get_paths(), pc.get_facecolors(), pc.get_array()):\n",
    "        x, y = p.vertices[:-2, :].mean(0)\n",
    "        if np.all(color[:3] > 0.5):\n",
    "            color = (0.0, 0.0, 0.0)\n",
    "        else:\n",
    "            color = (1.0, 1.0, 1.0)\n",
    "        ax.text(x, y, fmt % value, ha=\"center\", va=\"center\", color=color, **kw)\n",
    "\n",
    "\n",
    "def cm2inch(*tupl):\n",
    "    '''\n",
    "    Specify figure size in centimeter in matplotlib\n",
    "    Source: https://stackoverflow.com/a/22787457/395857\n",
    "    By gns-ank\n",
    "    '''\n",
    "    inch = 2.54\n",
    "    if type(tupl[0]) == tuple:\n",
    "        return tuple(i/inch for i in tupl[0])\n",
    "    else:\n",
    "        return tuple(i/inch for i in tupl)\n",
    "\n",
    "\n",
    "def heatmap(AUC, title, xlabel, ylabel, xticklabels, yticklabels, figure_width=40, figure_height=20, correct_orientation=False, cmap='RdBu'):\n",
    "    '''\n",
    "    Inspired by:\n",
    "    - https://stackoverflow.com/a/16124677/395857 \n",
    "    - https://stackoverflow.com/a/25074150/395857\n",
    "    '''\n",
    "\n",
    "    # Plot it out\n",
    "    fig, ax = plt.subplots()    \n",
    "    #c = ax.pcolor(AUC, edgecolors='k', linestyle= 'dashed', linewidths=0.2, cmap='RdBu', vmin=0.0, vmax=1.0)\n",
    "    c = ax.pcolor(AUC, edgecolors='k', linestyle= 'dashed', linewidths=0.2, cmap=cmap)\n",
    "\n",
    "    # put the major ticks at the middle of each cell\n",
    "    ax.set_yticks(np.arange(AUC.shape[0]) + 0.5, minor=False)\n",
    "    ax.set_xticks(np.arange(AUC.shape[1]) + 0.5, minor=False)\n",
    "\n",
    "    # set tick labels\n",
    "    #ax.set_xticklabels(np.arange(1,AUC.shape[1]+1), minor=False)\n",
    "    ax.set_xticklabels(xticklabels, minor=False)\n",
    "    ax.set_yticklabels(yticklabels, minor=False)\n",
    "\n",
    "    # set title and x/y labels\n",
    "    plt.title(title)\n",
    "    plt.xlabel(xlabel)\n",
    "    plt.ylabel(ylabel)      \n",
    "\n",
    "    # Remove last blank column\n",
    "    plt.xlim( (0, AUC.shape[1]) )\n",
    "\n",
    "    # Turn off all the ticks\n",
    "    ax = plt.gca()    \n",
    "    for t in ax.xaxis.get_major_ticks():\n",
    "        t.tick1On = False\n",
    "        t.tick2On = False\n",
    "    for t in ax.yaxis.get_major_ticks():\n",
    "        t.tick1On = False\n",
    "        t.tick2On = False\n",
    "\n",
    "    # Add color bar\n",
    "    plt.colorbar(c)\n",
    "\n",
    "    # Add text in each cell \n",
    "    show_values(c)\n",
    "\n",
    "    # Proper orientation (origin at the top left instead of bottom left)\n",
    "    if correct_orientation:\n",
    "        ax.invert_yaxis()\n",
    "        ax.xaxis.tick_top()       \n",
    "\n",
    "    # resize \n",
    "    fig = plt.gcf()\n",
    "    #fig.set_size_inches(cm2inch(40, 20))\n",
    "    #fig.set_size_inches(cm2inch(40*4, 20*4))\n",
    "    fig.set_size_inches(cm2inch(figure_width, figure_height))\n",
    "\n",
    "\n",
    "\n",
    "def plot_classification_report(classification_report, title='Shot Categorization', cmap='RdBu'):\n",
    "    '''\n",
    "    Plot scikit-learn classification report.\n",
    "    Extension based on https://stackoverflow.com/a/31689645/395857 \n",
    "    '''\n",
    "    lines = classification_report.split('\\n')\n",
    "\n",
    "    classes = []\n",
    "    plotMat = []\n",
    "    support = []\n",
    "    class_names = []\n",
    "    for line in lines[2 : (len(lines) - 2)]:\n",
    "        t = line.strip().split()\n",
    "        if len(t) < 2: continue\n",
    "        classes.append(t[0])\n",
    "        v = [float(x) for x in t[1: len(t) - 1]]\n",
    "        support.append(int(t[-1]))\n",
    "        class_names.append(t[0])\n",
    "        print(v)\n",
    "        plotMat.append(v)\n",
    "\n",
    "    print('plotMat: {0}'.format(plotMat))\n",
    "    print('support: {0}'.format(support))\n",
    "\n",
    "    xlabel = 'Metrics'\n",
    "    ylabel = 'Classes'\n",
    "    xticklabels = ['Precision', 'Recall', 'F1-score']\n",
    "    yticklabels = ['{0} ({1})'.format(class_names[idx], sup) for idx, sup  in enumerate(support)]\n",
    "    figure_width = 25\n",
    "    figure_height = len(class_names) + 7\n",
    "    correct_orientation = False\n",
    "    heatmap(np.array(plotMat), title, xlabel, ylabel, xticklabels, yticklabels, figure_width, figure_height, correct_orientation, cmap=cmap)"
   ]
  },
  {
   "cell_type": "code",
   "execution_count": 16,
   "id": "da3a2432",
   "metadata": {
    "execution": {
     "iopub.execute_input": "2022-12-18T10:51:53.633350Z",
     "iopub.status.busy": "2022-12-18T10:51:53.632212Z",
     "iopub.status.idle": "2022-12-18T10:51:53.637330Z",
     "shell.execute_reply": "2022-12-18T10:51:53.636287Z"
    },
    "papermill": {
     "duration": 0.0183,
     "end_time": "2022-12-18T10:51:53.639541",
     "exception": false,
     "start_time": "2022-12-18T10:51:53.621241",
     "status": "completed"
    },
    "tags": []
   },
   "outputs": [],
   "source": [
    "# sampleClassificationReport = \"\"\"             precision    recall  f1-score   support\n",
    "\n",
    "#           Skip       1.00      0.99      0.99       297\n",
    "#           Show       0.99      1.00      0.99       298\n",
    "#           macro avg       0.99      0.99      0.99       595\n",
    "#           weighted avg       0.99      0.99      0.99       595\"\"\"\n",
    "\n",
    "\n",
    "# plot_classification_report(sampleClassificationReport)\n",
    "# plt.savefig('test_plot_classif_report.png', dpi=200, format='png', bbox_inches='tight')\n",
    "# plt.close()"
   ]
  },
  {
   "cell_type": "code",
   "execution_count": 17,
   "id": "1064096f",
   "metadata": {
    "execution": {
     "iopub.execute_input": "2022-12-18T10:51:53.661648Z",
     "iopub.status.busy": "2022-12-18T10:51:53.660620Z",
     "iopub.status.idle": "2022-12-18T10:51:53.671823Z",
     "shell.execute_reply": "2022-12-18T10:51:53.670990Z"
    },
    "papermill": {
     "duration": 0.025219,
     "end_time": "2022-12-18T10:51:53.674525",
     "exception": false,
     "start_time": "2022-12-18T10:51:53.649306",
     "status": "completed"
    },
    "tags": []
   },
   "outputs": [
    {
     "name": "stdout",
     "output_type": "stream",
     "text": [
      "              precision    recall  f1-score   support\n",
      "\n",
      "           0       0.99      0.99      0.99       297\n",
      "           1       0.99      0.99      0.99       298\n",
      "\n",
      "    accuracy                           0.99       595\n",
      "   macro avg       0.99      0.99      0.99       595\n",
      "weighted avg       0.99      0.99      0.99       595\n",
      "\n"
     ]
    }
   ],
   "source": [
    "print(classification_report(y_test, y_pred))"
   ]
  },
  {
   "cell_type": "code",
   "execution_count": 18,
   "id": "d7e91aad",
   "metadata": {
    "execution": {
     "iopub.execute_input": "2022-12-18T10:51:53.696720Z",
     "iopub.status.busy": "2022-12-18T10:51:53.696305Z",
     "iopub.status.idle": "2022-12-18T10:51:53.702083Z",
     "shell.execute_reply": "2022-12-18T10:51:53.700768Z"
    },
    "papermill": {
     "duration": 0.01923,
     "end_time": "2022-12-18T10:51:53.704387",
     "exception": false,
     "start_time": "2022-12-18T10:51:53.685157",
     "status": "completed"
    },
    "tags": []
   },
   "outputs": [],
   "source": [
    "# from sklearn.metrics import roc_auc_score\n",
    "# import sklearn\n",
    "# import matplotlib.pyplot as plt\n",
    "\n",
    "# y_true = y_test\n",
    "# y_score = np.expand_dims(y_pred, -1)\n",
    "\n",
    "# # y_true is a list of true labels\n",
    "# # y_score is a list of predicted probabilities for each class\n",
    "# n_classes = len(np.unique(y_true))\n",
    "# fpr = dict()\n",
    "# tpr = dict()\n",
    "# roc_auc = dict()\n",
    "# for i in range(n_classes):\n",
    "#     fpr[i], tpr[i], _ = sklearn.metrics.roc_curve(y_true, y_score[:, i], pos_label=i)\n",
    "#     roc_auc[i] = roc_auc_score(y_true, y_score[:, i])\n",
    "\n",
    "# plt.figure()\n",
    "# colors = ['b', 'g', 'r', 'c', 'm', 'y', 'k']\n",
    "# for i, color in zip(range(n_classes), colors):\n",
    "#     plt.plot(fpr[i], tpr[i], color=color, lw=2,\n",
    "#              label='ROC curve of class {0} (area = {1:0.2f})'\n",
    "#              ''.format(i, roc_auc[i]))\n",
    "# plt.plot([0, 1], [0, 1], 'k--', lw=2)\n",
    "# plt.xlim([0.0, 1.0])\n",
    "# plt.ylim([0.0, 1.05])\n",
    "# plt.xlabel('False Positive Rate')\n",
    "# plt.ylabel('True Positive Rate')\n",
    "# plt.title('Receiver Operating Characteristic (ROC)')\n",
    "# plt.legend(loc=\"lower right\")\n",
    "# plt.show()"
   ]
  },
  {
   "cell_type": "code",
   "execution_count": 19,
   "id": "7e2f20f5",
   "metadata": {
    "execution": {
     "iopub.execute_input": "2022-12-18T10:51:53.726487Z",
     "iopub.status.busy": "2022-12-18T10:51:53.725301Z",
     "iopub.status.idle": "2022-12-18T10:51:53.733300Z",
     "shell.execute_reply": "2022-12-18T10:51:53.731891Z"
    },
    "papermill": {
     "duration": 0.021595,
     "end_time": "2022-12-18T10:51:53.735752",
     "exception": false,
     "start_time": "2022-12-18T10:51:53.714157",
     "status": "completed"
    },
    "tags": []
   },
   "outputs": [],
   "source": [
    "def computeAccuracy(df, number_of_features):\n",
    "    pca = PCA(n_components = number_of_features)\n",
    "    \n",
    "    features = np.array(df.drop(columns = 'target'))\n",
    "    features_reduced = pca.fit_transform(features)\n",
    "    \n",
    "    labels = df['target'].tolist()\n",
    "    \n",
    "    x_train, x_test, y_train, y_test = train_test_split(features_reduced, labels, stratify = labels, random_state = 1)\n",
    "    \n",
    "    model = XGBClassifier(random_state = 42)\n",
    "\n",
    "    model.fit(x_train, y_train)\n",
    "    y_pred = model.predict(x_test)\n",
    "    \n",
    "    return accuracy_score(y_test, y_pred);"
   ]
  },
  {
   "cell_type": "code",
   "execution_count": 20,
   "id": "8842543c",
   "metadata": {
    "execution": {
     "iopub.execute_input": "2022-12-18T10:51:53.757396Z",
     "iopub.status.busy": "2022-12-18T10:51:53.756978Z",
     "iopub.status.idle": "2022-12-18T10:51:58.714883Z",
     "shell.execute_reply": "2022-12-18T10:51:58.713824Z"
    },
    "papermill": {
     "duration": 4.971926,
     "end_time": "2022-12-18T10:51:58.717610",
     "exception": false,
     "start_time": "2022-12-18T10:51:53.745684",
     "status": "completed"
    },
    "tags": []
   },
   "outputs": [
    {
     "data": {
      "text/plain": [
       "[0.8279883381924198,\n",
       " 0.8542274052478134,\n",
       " 0.8425655976676385,\n",
       " 0.8367346938775511,\n",
       " 0.8542274052478134,\n",
       " 0.8483965014577259,\n",
       " 0.8629737609329446]"
      ]
     },
     "execution_count": 20,
     "metadata": {},
     "output_type": "execute_result"
    }
   ],
   "source": [
    "score = [computeAccuracy(df, i) for i in range(1, 8)]\n",
    "score"
   ]
  },
  {
   "cell_type": "code",
   "execution_count": 21,
   "id": "7001e41c",
   "metadata": {
    "execution": {
     "iopub.execute_input": "2022-12-18T10:51:58.741117Z",
     "iopub.status.busy": "2022-12-18T10:51:58.740304Z",
     "iopub.status.idle": "2022-12-18T10:51:58.752943Z",
     "shell.execute_reply": "2022-12-18T10:51:58.751816Z"
    },
    "papermill": {
     "duration": 0.026632,
     "end_time": "2022-12-18T10:51:58.755515",
     "exception": false,
     "start_time": "2022-12-18T10:51:58.728883",
     "status": "completed"
    },
    "tags": []
   },
   "outputs": [],
   "source": [
    "space = {\n",
    "        'objective': 'multi:softprob',\n",
    "        'gamma': hp.uniform ('gamma', 1,9),\n",
    "        'reg_alpha' : hp.loguniform('reg_alpha', 1e-8,100),\n",
    "        'reg_lambda' : hp.loguniform('reg_lambda', 1e-8,100),\n",
    "        'colsample_bytree' : hp.uniform('colsample_bytree', 0.1,1),\n",
    "        'min_child_weight' : hp.quniform('min_child_weight', 0, 10, 1),\n",
    "        'n_estimators': 1800,\n",
    "        'seed': 0,\n",
    "        'learning_rate': hp.quniform(\"learning_rate\", 1e-2, 0.25),\n",
    "        'max_depth': hp.uniform('max_depth', 1, 7)\n",
    "}\n",
    "\n",
    "def objective(space, df_train, df_test):\n",
    "    clf = XGBClassifier(\n",
    "                    n_estimators =space['n_estimators'], max_depth = int(space['max_depth']), gamma = space['gamma'],\n",
    "                    reg_alpha = int(space['reg_alpha']), min_child_weight = int(space['min_child_weight']),\n",
    "                    colsample_bytree = int(space['colsample_bytree']))\n",
    "        \n",
    "    xx_train = df_train.drop(columns = ['target'])\n",
    "    yy_train = df_train['target']\n",
    "    \n",
    "    xx_test = df_test.drop(columns = ['target'])\n",
    "    yy_test = df_test['target']\n",
    "    \n",
    "    evaluation = [(xx_train, yy_train), \n",
    "                  (xx_test, yy_test)]\n",
    "    \n",
    "    clf.fit(xx_train, yy_train, eval_set=evaluation, eval_metric=None, early_stopping_rounds=20,verbose=False)\n",
    "    \n",
    "    pred = clf.predict(xx_test)\n",
    "    accuracy = accuracy_score(yy_test, pred)\n",
    "    print (\"SCORE:\", accuracy)\n",
    "    return {'loss': -accuracy, 'status': STATUS_OK }\n",
    "\n",
    "trials = Trials()\n",
    "\n",
    "# best_hyperparams = fmin(fn = objective, space = space, algo = tpe.suggest, max_evals = 100, trials = trials)"
   ]
  },
  {
   "cell_type": "code",
   "execution_count": 22,
   "id": "4924daaa",
   "metadata": {
    "execution": {
     "iopub.execute_input": "2022-12-18T10:51:58.777423Z",
     "iopub.status.busy": "2022-12-18T10:51:58.776723Z",
     "iopub.status.idle": "2022-12-18T10:51:58.784597Z",
     "shell.execute_reply": "2022-12-18T10:51:58.783039Z"
    },
    "papermill": {
     "duration": 0.02165,
     "end_time": "2022-12-18T10:51:58.787107",
     "exception": false,
     "start_time": "2022-12-18T10:51:58.765457",
     "status": "completed"
    },
    "tags": []
   },
   "outputs": [
    {
     "name": "stdout",
     "output_type": "stream",
     "text": [
      "900\n"
     ]
    }
   ],
   "source": [
    "sorted_columns = list(df.columns)\n",
    "sorted_columns.remove('target')\n",
    "sorted_columns = sorted(sorted_columns)\n",
    "\n",
    "final_ordered_features = []\n",
    "\n",
    "for col in sorted_columns:\n",
    "    final_ordered_features.append(col)\n",
    "\n",
    "print(len(final_ordered_features))"
   ]
  },
  {
   "cell_type": "code",
   "execution_count": 23,
   "id": "bf62b028",
   "metadata": {
    "execution": {
     "iopub.execute_input": "2022-12-18T10:51:58.809411Z",
     "iopub.status.busy": "2022-12-18T10:51:58.808707Z",
     "iopub.status.idle": "2022-12-18T10:51:58.820971Z",
     "shell.execute_reply": "2022-12-18T10:51:58.819733Z"
    },
    "papermill": {
     "duration": 0.02619,
     "end_time": "2022-12-18T10:51:58.823641",
     "exception": false,
     "start_time": "2022-12-18T10:51:58.797451",
     "status": "completed"
    },
    "tags": []
   },
   "outputs": [],
   "source": [
    "with open('tf_idf_shot', 'wb') as files:\n",
    "    pickle.dump(tfidf_vect, files)"
   ]
  },
  {
   "cell_type": "code",
   "execution_count": 24,
   "id": "1721153f",
   "metadata": {
    "execution": {
     "iopub.execute_input": "2022-12-18T10:51:58.845768Z",
     "iopub.status.busy": "2022-12-18T10:51:58.845042Z",
     "iopub.status.idle": "2022-12-18T10:51:58.853849Z",
     "shell.execute_reply": "2022-12-18T10:51:58.852905Z"
    },
    "papermill": {
     "duration": 0.026101,
     "end_time": "2022-12-18T10:51:58.860000",
     "exception": false,
     "start_time": "2022-12-18T10:51:58.833899",
     "status": "completed"
    },
    "tags": []
   },
   "outputs": [],
   "source": [
    "with open('shot_categorization', 'wb') as files:\n",
    "    pickle.dump(model, files)"
   ]
  },
  {
   "cell_type": "code",
   "execution_count": 25,
   "id": "7d895539",
   "metadata": {
    "execution": {
     "iopub.execute_input": "2022-12-18T10:51:58.883463Z",
     "iopub.status.busy": "2022-12-18T10:51:58.883066Z",
     "iopub.status.idle": "2022-12-18T10:51:58.888521Z",
     "shell.execute_reply": "2022-12-18T10:51:58.887430Z"
    },
    "papermill": {
     "duration": 0.019085,
     "end_time": "2022-12-18T10:51:58.890742",
     "exception": false,
     "start_time": "2022-12-18T10:51:58.871657",
     "status": "completed"
    },
    "tags": []
   },
   "outputs": [],
   "source": [
    "with open('final_ordered_shot', 'wb') as files:\n",
    "    pickle.dump(final_ordered_features, files)"
   ]
  },
  {
   "cell_type": "code",
   "execution_count": null,
   "id": "4d24b476",
   "metadata": {
    "papermill": {
     "duration": 0.009497,
     "end_time": "2022-12-18T10:51:58.910298",
     "exception": false,
     "start_time": "2022-12-18T10:51:58.900801",
     "status": "completed"
    },
    "tags": []
   },
   "outputs": [],
   "source": []
  },
  {
   "cell_type": "code",
   "execution_count": null,
   "id": "3a1398ea",
   "metadata": {
    "papermill": {
     "duration": 0.009916,
     "end_time": "2022-12-18T10:51:58.929925",
     "exception": false,
     "start_time": "2022-12-18T10:51:58.920009",
     "status": "completed"
    },
    "tags": []
   },
   "outputs": [],
   "source": []
  }
 ],
 "metadata": {
  "kernelspec": {
   "display_name": "Python 3",
   "language": "python",
   "name": "python3"
  },
  "language_info": {
   "codemirror_mode": {
    "name": "ipython",
    "version": 3
   },
   "file_extension": ".py",
   "mimetype": "text/x-python",
   "name": "python",
   "nbconvert_exporter": "python",
   "pygments_lexer": "ipython3",
   "version": "3.7.12"
  },
  "papermill": {
   "default_parameters": {},
   "duration": 33.08987,
   "end_time": "2022-12-18T10:51:59.866091",
   "environment_variables": {},
   "exception": null,
   "input_path": "__notebook__.ipynb",
   "output_path": "__notebook__.ipynb",
   "parameters": {},
   "start_time": "2022-12-18T10:51:26.776221",
   "version": "2.3.4"
  }
 },
 "nbformat": 4,
 "nbformat_minor": 5
}
