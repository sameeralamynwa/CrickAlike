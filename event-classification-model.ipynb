{
 "cells": [
  {
   "cell_type": "code",
   "execution_count": 1,
   "id": "b4f9f6e9",
   "metadata": {
    "_cell_guid": "b1076dfc-b9ad-4769-8c92-a6c4dae69d19",
    "_uuid": "8f2839f25d086af736a60e9eeb907d3b93b6e0e5",
    "execution": {
     "iopub.execute_input": "2022-12-18T10:49:34.825559Z",
     "iopub.status.busy": "2022-12-18T10:49:34.824074Z",
     "iopub.status.idle": "2022-12-18T10:49:38.075386Z",
     "shell.execute_reply": "2022-12-18T10:49:38.073821Z"
    },
    "papermill": {
     "duration": 3.266143,
     "end_time": "2022-12-18T10:49:38.078559",
     "exception": false,
     "start_time": "2022-12-18T10:49:34.812416",
     "status": "completed"
    },
    "tags": []
   },
   "outputs": [
    {
     "name": "stdout",
     "output_type": "stream",
     "text": [
      "/kaggle/input/crickalike/shot_categorization.csv\n",
      "/kaggle/input/crickalike/event_classifier.csv\n"
     ]
    }
   ],
   "source": [
    "# General Data Science Libraries\n",
    "import numpy as np\n",
    "import pandas as pd\n",
    "from imblearn.over_sampling import SMOTE\n",
    "import warnings\n",
    "import pickle\n",
    "import matplotlib.pyplot as plt\n",
    "import seaborn as sns\n",
    "\n",
    "# Machine Learning Libraries\n",
    "import sklearn as sk\n",
    "from sklearn.feature_extraction.text import TfidfVectorizer\n",
    "from sklearn import preprocessing\n",
    "from sklearn.ensemble import RandomForestClassifier\n",
    "from sklearn.metrics import accuracy_score \n",
    "from sklearn.model_selection import train_test_split\n",
    "from xgboost import XGBClassifier\n",
    "from hyperopt import STATUS_OK, Trials, fmin, hp, tpe\n",
    "from sklearn.decomposition import PCA\n",
    "from sklearn.metrics import classification_report, confusion_matrix\n",
    "\n",
    "\n",
    "# Natural Language Processing Libraries\n",
    "from gensim.parsing.preprocessing import remove_stopwords\n",
    "from nltk.stem import PorterStemmer  \n",
    "from sklearn.feature_extraction.text import TfidfVectorizer\n",
    "import re\n",
    "\n",
    "import os\n",
    "for dirname, _, filenames in os.walk('/kaggle/input'):\n",
    "    for filename in filenames:\n",
    "        print(os.path.join(dirname, filename))\n",
    "\n",
    "warnings.filterwarnings('ignore')"
   ]
  },
  {
   "cell_type": "code",
   "execution_count": 2,
   "id": "a30da4ca",
   "metadata": {
    "execution": {
     "iopub.execute_input": "2022-12-18T10:49:38.095683Z",
     "iopub.status.busy": "2022-12-18T10:49:38.095270Z",
     "iopub.status.idle": "2022-12-18T10:49:38.141552Z",
     "shell.execute_reply": "2022-12-18T10:49:38.139933Z"
    },
    "papermill": {
     "duration": 0.058832,
     "end_time": "2022-12-18T10:49:38.144660",
     "exception": false,
     "start_time": "2022-12-18T10:49:38.085828",
     "status": "completed"
    },
    "tags": []
   },
   "outputs": [
    {
     "data": {
      "text/html": [
       "<div>\n",
       "<style scoped>\n",
       "    .dataframe tbody tr th:only-of-type {\n",
       "        vertical-align: middle;\n",
       "    }\n",
       "\n",
       "    .dataframe tbody tr th {\n",
       "        vertical-align: top;\n",
       "    }\n",
       "\n",
       "    .dataframe thead th {\n",
       "        text-align: right;\n",
       "    }\n",
       "</style>\n",
       "<table border=\"1\" class=\"dataframe\">\n",
       "  <thead>\n",
       "    <tr style=\"text-align: right;\">\n",
       "      <th></th>\n",
       "      <th>commentary</th>\n",
       "      <th>target</th>\n",
       "    </tr>\n",
       "  </thead>\n",
       "  <tbody>\n",
       "    <tr>\n",
       "      <th>181</th>\n",
       "      <td>Marco Jansen to Shubman Gill, FOUR, India off...</td>\n",
       "      <td>1</td>\n",
       "    </tr>\n",
       "    <tr>\n",
       "      <th>182</th>\n",
       "      <td>Ngidi to Dhawan, FOUR, thwacks the drive outs...</td>\n",
       "      <td>1</td>\n",
       "    </tr>\n",
       "    <tr>\n",
       "      <th>183</th>\n",
       "      <td>Marco Jansen to Shubman Gill, FOUR, short bal...</td>\n",
       "      <td>1</td>\n",
       "    </tr>\n",
       "    <tr>\n",
       "      <th>184</th>\n",
       "      <td>Marco Jansen to Shreyas Iyer, SIX, slammed do...</td>\n",
       "      <td>2</td>\n",
       "    </tr>\n",
       "    <tr>\n",
       "      <th>185</th>\n",
       "      <td>Nortje to Shreyas Iyer, SIX, a lot of jugglin...</td>\n",
       "      <td>2</td>\n",
       "    </tr>\n",
       "  </tbody>\n",
       "</table>\n",
       "</div>"
      ],
      "text/plain": [
       "                                            commentary  target\n",
       "181   Marco Jansen to Shubman Gill, FOUR, India off...       1\n",
       "182   Ngidi to Dhawan, FOUR, thwacks the drive outs...       1\n",
       "183   Marco Jansen to Shubman Gill, FOUR, short bal...       1\n",
       "184   Marco Jansen to Shreyas Iyer, SIX, slammed do...       2\n",
       "185   Nortje to Shreyas Iyer, SIX, a lot of jugglin...       2"
      ]
     },
     "execution_count": 2,
     "metadata": {},
     "output_type": "execute_result"
    }
   ],
   "source": [
    "df = pd.read_csv('/kaggle/input/crickalike/event_classifier.csv', index_col = [0])\n",
    "df.tail()"
   ]
  },
  {
   "cell_type": "code",
   "execution_count": 3,
   "id": "d0ef914f",
   "metadata": {
    "execution": {
     "iopub.execute_input": "2022-12-18T10:49:38.159848Z",
     "iopub.status.busy": "2022-12-18T10:49:38.159451Z",
     "iopub.status.idle": "2022-12-18T10:49:38.167650Z",
     "shell.execute_reply": "2022-12-18T10:49:38.166332Z"
    },
    "papermill": {
     "duration": 0.018468,
     "end_time": "2022-12-18T10:49:38.169901",
     "exception": false,
     "start_time": "2022-12-18T10:49:38.151433",
     "status": "completed"
    },
    "tags": []
   },
   "outputs": [],
   "source": [
    "def text_cleaning(df, column):\n",
    "    df_column_array = np.array(df[column])\n",
    "    text = []\n",
    "    ps = PorterStemmer()\n",
    "    for index in range(len(df_column_array)):\n",
    "        modifiedText = remove_stopwords(df.at[index, column])\n",
    "        stemmedSentence = \"\"\n",
    "        for word in modifiedText.split():\n",
    "            word = re.sub(r\"[^a-zA-Z]+\", '', word)\n",
    "            word = word.strip()\n",
    "            word = word.lower()\n",
    "            word = ps.stem(word)\n",
    "            word = word.strip()\n",
    "            stemmedSentence += word\n",
    "            stemmedSentence += \" \"\n",
    "        df.at[index, column] = stemmedSentence"
   ]
  },
  {
   "cell_type": "code",
   "execution_count": 4,
   "id": "01d5e397",
   "metadata": {
    "execution": {
     "iopub.execute_input": "2022-12-18T10:49:38.185489Z",
     "iopub.status.busy": "2022-12-18T10:49:38.185016Z",
     "iopub.status.idle": "2022-12-18T10:49:38.350011Z",
     "shell.execute_reply": "2022-12-18T10:49:38.348552Z"
    },
    "papermill": {
     "duration": 0.176552,
     "end_time": "2022-12-18T10:49:38.353194",
     "exception": false,
     "start_time": "2022-12-18T10:49:38.176642",
     "status": "completed"
    },
    "tags": []
   },
   "outputs": [],
   "source": [
    "text_cleaning(df, 'commentary')"
   ]
  },
  {
   "cell_type": "code",
   "execution_count": 5,
   "id": "5f1e0e4a",
   "metadata": {
    "execution": {
     "iopub.execute_input": "2022-12-18T10:49:38.368693Z",
     "iopub.status.busy": "2022-12-18T10:49:38.368260Z",
     "iopub.status.idle": "2022-12-18T10:49:38.379739Z",
     "shell.execute_reply": "2022-12-18T10:49:38.378316Z"
    },
    "papermill": {
     "duration": 0.022919,
     "end_time": "2022-12-18T10:49:38.382899",
     "exception": false,
     "start_time": "2022-12-18T10:49:38.359980",
     "status": "completed"
    },
    "tags": []
   },
   "outputs": [
    {
     "data": {
      "text/html": [
       "<div>\n",
       "<style scoped>\n",
       "    .dataframe tbody tr th:only-of-type {\n",
       "        vertical-align: middle;\n",
       "    }\n",
       "\n",
       "    .dataframe tbody tr th {\n",
       "        vertical-align: top;\n",
       "    }\n",
       "\n",
       "    .dataframe thead th {\n",
       "        text-align: right;\n",
       "    }\n",
       "</style>\n",
       "<table border=\"1\" class=\"dataframe\">\n",
       "  <thead>\n",
       "    <tr style=\"text-align: right;\">\n",
       "      <th></th>\n",
       "      <th>commentary</th>\n",
       "      <th>target</th>\n",
       "    </tr>\n",
       "  </thead>\n",
       "  <tbody>\n",
       "    <tr>\n",
       "      <th>0</th>\n",
       "      <td>siraj maharaj bowl maharaj miser stay creas en...</td>\n",
       "      <td>0</td>\n",
       "    </tr>\n",
       "    <tr>\n",
       "      <th>1</th>\n",
       "      <td>thakur parnel caught shreya iyer parnel succum...</td>\n",
       "      <td>0</td>\n",
       "    </tr>\n",
       "    <tr>\n",
       "      <th>2</th>\n",
       "      <td>washington sundar markram caught dhawan two wi...</td>\n",
       "      <td>0</td>\n",
       "    </tr>\n",
       "    <tr>\n",
       "      <th>3</th>\n",
       "      <td>kuldeep yadav klaasen caught siraj good run ca...</td>\n",
       "      <td>0</td>\n",
       "    </tr>\n",
       "    <tr>\n",
       "      <th>4</th>\n",
       "      <td>siraj r hendrick caught shahbaz ahm hendrick d...</td>\n",
       "      <td>0</td>\n",
       "    </tr>\n",
       "  </tbody>\n",
       "</table>\n",
       "</div>"
      ],
      "text/plain": [
       "                                          commentary  target\n",
       "0  siraj maharaj bowl maharaj miser stay creas en...       0\n",
       "1  thakur parnel caught shreya iyer parnel succum...       0\n",
       "2  washington sundar markram caught dhawan two wi...       0\n",
       "3  kuldeep yadav klaasen caught siraj good run ca...       0\n",
       "4  siraj r hendrick caught shahbaz ahm hendrick d...       0"
      ]
     },
     "execution_count": 5,
     "metadata": {},
     "output_type": "execute_result"
    }
   ],
   "source": [
    "df.head()"
   ]
  },
  {
   "cell_type": "code",
   "execution_count": 6,
   "id": "724f7274",
   "metadata": {
    "execution": {
     "iopub.execute_input": "2022-12-18T10:49:38.398485Z",
     "iopub.status.busy": "2022-12-18T10:49:38.398048Z",
     "iopub.status.idle": "2022-12-18T10:49:38.404526Z",
     "shell.execute_reply": "2022-12-18T10:49:38.403033Z"
    },
    "papermill": {
     "duration": 0.017219,
     "end_time": "2022-12-18T10:49:38.407036",
     "exception": false,
     "start_time": "2022-12-18T10:49:38.389817",
     "status": "completed"
    },
    "tags": []
   },
   "outputs": [],
   "source": [
    "def vectorize(data, tfidf_vect_fit):\n",
    "    x_tfidf = tfidf_vect_fit.transform(data)\n",
    "    words = tfidf_vect_fit.get_feature_names()\n",
    "    x_tfidf_df = pd.DataFrame(x_tfidf.toarray())\n",
    "    x_tfidf_df.columns = words\n",
    "    return (x_tfidf_df)"
   ]
  },
  {
   "cell_type": "code",
   "execution_count": 7,
   "id": "f93c4ec8",
   "metadata": {
    "execution": {
     "iopub.execute_input": "2022-12-18T10:49:38.422974Z",
     "iopub.status.busy": "2022-12-18T10:49:38.422583Z",
     "iopub.status.idle": "2022-12-18T10:49:38.652514Z",
     "shell.execute_reply": "2022-12-18T10:49:38.651620Z"
    },
    "papermill": {
     "duration": 0.241328,
     "end_time": "2022-12-18T10:49:38.655517",
     "exception": false,
     "start_time": "2022-12-18T10:49:38.414189",
     "status": "completed"
    },
    "tags": []
   },
   "outputs": [
    {
     "data": {
      "text/html": [
       "<div>\n",
       "<style scoped>\n",
       "    .dataframe tbody tr th:only-of-type {\n",
       "        vertical-align: middle;\n",
       "    }\n",
       "\n",
       "    .dataframe tbody tr th {\n",
       "        vertical-align: top;\n",
       "    }\n",
       "\n",
       "    .dataframe thead th {\n",
       "        text-align: right;\n",
       "    }\n",
       "</style>\n",
       "<table border=\"1\" class=\"dataframe\">\n",
       "  <thead>\n",
       "    <tr style=\"text-align: right;\">\n",
       "      <th></th>\n",
       "      <th>target</th>\n",
       "      <th>absolut</th>\n",
       "      <th>across</th>\n",
       "      <th>africa</th>\n",
       "      <th>again</th>\n",
       "      <th>ahm</th>\n",
       "      <th>ahm hendrick</th>\n",
       "      <th>ahm janneman</th>\n",
       "      <th>ahm klaasen</th>\n",
       "      <th>ahm markram</th>\n",
       "      <th>...</th>\n",
       "      <th>wri</th>\n",
       "      <th>wri smile</th>\n",
       "      <th>wrist</th>\n",
       "      <th>yadav</th>\n",
       "      <th>yadav hendrick</th>\n",
       "      <th>yadav klaasen</th>\n",
       "      <th>yadav marco</th>\n",
       "      <th>yadav miller</th>\n",
       "      <th>yadav phehlukwayo</th>\n",
       "      <th>yorker</th>\n",
       "    </tr>\n",
       "  </thead>\n",
       "  <tbody>\n",
       "    <tr>\n",
       "      <th>0</th>\n",
       "      <td>0</td>\n",
       "      <td>0.0</td>\n",
       "      <td>0.0</td>\n",
       "      <td>0.0</td>\n",
       "      <td>0.0</td>\n",
       "      <td>0.000000</td>\n",
       "      <td>0.000000</td>\n",
       "      <td>0.0</td>\n",
       "      <td>0.0</td>\n",
       "      <td>0.0</td>\n",
       "      <td>...</td>\n",
       "      <td>0.000000</td>\n",
       "      <td>0.000000</td>\n",
       "      <td>0.0</td>\n",
       "      <td>0.000000</td>\n",
       "      <td>0.0</td>\n",
       "      <td>0.000000</td>\n",
       "      <td>0.0</td>\n",
       "      <td>0.0</td>\n",
       "      <td>0.0</td>\n",
       "      <td>0.0</td>\n",
       "    </tr>\n",
       "    <tr>\n",
       "      <th>1</th>\n",
       "      <td>0</td>\n",
       "      <td>0.0</td>\n",
       "      <td>0.0</td>\n",
       "      <td>0.0</td>\n",
       "      <td>0.0</td>\n",
       "      <td>0.000000</td>\n",
       "      <td>0.000000</td>\n",
       "      <td>0.0</td>\n",
       "      <td>0.0</td>\n",
       "      <td>0.0</td>\n",
       "      <td>...</td>\n",
       "      <td>0.000000</td>\n",
       "      <td>0.000000</td>\n",
       "      <td>0.0</td>\n",
       "      <td>0.000000</td>\n",
       "      <td>0.0</td>\n",
       "      <td>0.000000</td>\n",
       "      <td>0.0</td>\n",
       "      <td>0.0</td>\n",
       "      <td>0.0</td>\n",
       "      <td>0.0</td>\n",
       "    </tr>\n",
       "    <tr>\n",
       "      <th>2</th>\n",
       "      <td>0</td>\n",
       "      <td>0.0</td>\n",
       "      <td>0.0</td>\n",
       "      <td>0.0</td>\n",
       "      <td>0.0</td>\n",
       "      <td>0.000000</td>\n",
       "      <td>0.000000</td>\n",
       "      <td>0.0</td>\n",
       "      <td>0.0</td>\n",
       "      <td>0.0</td>\n",
       "      <td>...</td>\n",
       "      <td>0.124766</td>\n",
       "      <td>0.124766</td>\n",
       "      <td>0.0</td>\n",
       "      <td>0.000000</td>\n",
       "      <td>0.0</td>\n",
       "      <td>0.000000</td>\n",
       "      <td>0.0</td>\n",
       "      <td>0.0</td>\n",
       "      <td>0.0</td>\n",
       "      <td>0.0</td>\n",
       "    </tr>\n",
       "    <tr>\n",
       "      <th>3</th>\n",
       "      <td>0</td>\n",
       "      <td>0.0</td>\n",
       "      <td>0.0</td>\n",
       "      <td>0.0</td>\n",
       "      <td>0.0</td>\n",
       "      <td>0.000000</td>\n",
       "      <td>0.000000</td>\n",
       "      <td>0.0</td>\n",
       "      <td>0.0</td>\n",
       "      <td>0.0</td>\n",
       "      <td>...</td>\n",
       "      <td>0.000000</td>\n",
       "      <td>0.000000</td>\n",
       "      <td>0.0</td>\n",
       "      <td>0.212458</td>\n",
       "      <td>0.0</td>\n",
       "      <td>0.144488</td>\n",
       "      <td>0.0</td>\n",
       "      <td>0.0</td>\n",
       "      <td>0.0</td>\n",
       "      <td>0.0</td>\n",
       "    </tr>\n",
       "    <tr>\n",
       "      <th>4</th>\n",
       "      <td>0</td>\n",
       "      <td>0.0</td>\n",
       "      <td>0.0</td>\n",
       "      <td>0.0</td>\n",
       "      <td>0.0</td>\n",
       "      <td>0.214628</td>\n",
       "      <td>0.144741</td>\n",
       "      <td>0.0</td>\n",
       "      <td>0.0</td>\n",
       "      <td>0.0</td>\n",
       "      <td>...</td>\n",
       "      <td>0.000000</td>\n",
       "      <td>0.000000</td>\n",
       "      <td>0.0</td>\n",
       "      <td>0.000000</td>\n",
       "      <td>0.0</td>\n",
       "      <td>0.000000</td>\n",
       "      <td>0.0</td>\n",
       "      <td>0.0</td>\n",
       "      <td>0.0</td>\n",
       "      <td>0.0</td>\n",
       "    </tr>\n",
       "  </tbody>\n",
       "</table>\n",
       "<p>5 rows × 1501 columns</p>\n",
       "</div>"
      ],
      "text/plain": [
       "   target  absolut  across  africa  again       ahm  ahm hendrick  \\\n",
       "0       0      0.0     0.0     0.0    0.0  0.000000      0.000000   \n",
       "1       0      0.0     0.0     0.0    0.0  0.000000      0.000000   \n",
       "2       0      0.0     0.0     0.0    0.0  0.000000      0.000000   \n",
       "3       0      0.0     0.0     0.0    0.0  0.000000      0.000000   \n",
       "4       0      0.0     0.0     0.0    0.0  0.214628      0.144741   \n",
       "\n",
       "   ahm janneman  ahm klaasen  ahm markram  ...       wri  wri smile  wrist  \\\n",
       "0           0.0          0.0          0.0  ...  0.000000   0.000000    0.0   \n",
       "1           0.0          0.0          0.0  ...  0.000000   0.000000    0.0   \n",
       "2           0.0          0.0          0.0  ...  0.124766   0.124766    0.0   \n",
       "3           0.0          0.0          0.0  ...  0.000000   0.000000    0.0   \n",
       "4           0.0          0.0          0.0  ...  0.000000   0.000000    0.0   \n",
       "\n",
       "      yadav  yadav hendrick  yadav klaasen  yadav marco  yadav miller  \\\n",
       "0  0.000000             0.0       0.000000          0.0           0.0   \n",
       "1  0.000000             0.0       0.000000          0.0           0.0   \n",
       "2  0.000000             0.0       0.000000          0.0           0.0   \n",
       "3  0.212458             0.0       0.144488          0.0           0.0   \n",
       "4  0.000000             0.0       0.000000          0.0           0.0   \n",
       "\n",
       "   yadav phehlukwayo  yorker  \n",
       "0                0.0     0.0  \n",
       "1                0.0     0.0  \n",
       "2                0.0     0.0  \n",
       "3                0.0     0.0  \n",
       "4                0.0     0.0  \n",
       "\n",
       "[5 rows x 1501 columns]"
      ]
     },
     "execution_count": 7,
     "metadata": {},
     "output_type": "execute_result"
    }
   ],
   "source": [
    "tfidf_vect = TfidfVectorizer(analyzer = 'word', stop_words = None, ngram_range=(1, 2), max_df = 0.5, use_idf = True, smooth_idf = True, max_features = 1500)\n",
    "tfidf_vect_fit = tfidf_vect.fit(df['commentary'])\n",
    "\n",
    "df.reset_index(drop = True, inplace = True)\n",
    "df_temp = vectorize(df['commentary'], tfidf_vect_fit)\n",
    "df_temp.reset_index(drop = True, inplace = True)\n",
    "\n",
    "df = pd.concat([df, df_temp], axis = 1)\n",
    "\n",
    "df.drop(columns = ['commentary'], inplace = True)\n",
    "\n",
    "df.head()"
   ]
  },
  {
   "cell_type": "code",
   "execution_count": 8,
   "id": "957037a1",
   "metadata": {
    "execution": {
     "iopub.execute_input": "2022-12-18T10:49:38.674671Z",
     "iopub.status.busy": "2022-12-18T10:49:38.674248Z",
     "iopub.status.idle": "2022-12-18T10:49:38.953863Z",
     "shell.execute_reply": "2022-12-18T10:49:38.952545Z"
    },
    "papermill": {
     "duration": 0.293932,
     "end_time": "2022-12-18T10:49:38.957385",
     "exception": false,
     "start_time": "2022-12-18T10:49:38.663453",
     "status": "completed"
    },
    "tags": []
   },
   "outputs": [],
   "source": [
    "smote_over_sample = SMOTE(sampling_strategy = 'minority')\n",
    "\n",
    "x, y = smote_over_sample.fit_resample(df.drop(columns = 'target'), df['target'])\n",
    "\n",
    "x_train, x_test, y_train, y_test = train_test_split(x, y,stratify = y, random_state = 1)"
   ]
  },
  {
   "cell_type": "code",
   "execution_count": 9,
   "id": "00b51a18",
   "metadata": {
    "execution": {
     "iopub.execute_input": "2022-12-18T10:49:38.973945Z",
     "iopub.status.busy": "2022-12-18T10:49:38.973515Z",
     "iopub.status.idle": "2022-12-18T10:49:43.401887Z",
     "shell.execute_reply": "2022-12-18T10:49:43.399977Z"
    },
    "papermill": {
     "duration": 4.444886,
     "end_time": "2022-12-18T10:49:43.409641",
     "exception": false,
     "start_time": "2022-12-18T10:49:38.964755",
     "status": "completed"
    },
    "tags": []
   },
   "outputs": [
    {
     "name": "stdout",
     "output_type": "stream",
     "text": [
      "==============================\n",
      "KNeighborsClassifier\n",
      "Accuracy: 54.7945%\n",
      "Log Loss: 11.04923801772536\n",
      "==============================\n",
      "DecisionTreeClassifier\n",
      "Accuracy: 95.8904%\n",
      "Log Loss: 1.4194017696538654\n",
      "==============================\n",
      "RandomForestClassifier\n",
      "Accuracy: 93.1507%\n",
      "Log Loss: 0.2534331428772286\n",
      "==============================\n",
      "XGBClassifier\n",
      "Accuracy: 98.6301%\n",
      "Log Loss: 0.07693747778053153\n",
      "==============================\n",
      "AdaBoostClassifier\n",
      "Accuracy: 94.5205%\n",
      "Log Loss: 0.14826666893571813\n",
      "==============================\n",
      "GradientBoostingClassifier\n",
      "Accuracy: 94.5205%\n",
      "Log Loss: 0.23033761749106854\n",
      "==============================\n",
      "GaussianNB\n",
      "Accuracy: 95.8904%\n",
      "Log Loss: 1.4194017696538654\n",
      "==============================\n",
      "LinearDiscriminantAnalysis\n",
      "Accuracy: 80.8219%\n",
      "Log Loss: 0.5664964446431934\n",
      "==============================\n"
     ]
    }
   ],
   "source": [
    "from sklearn.metrics import accuracy_score, log_loss\n",
    "from sklearn.neighbors import KNeighborsClassifier\n",
    "from sklearn.svm import SVC, LinearSVC, NuSVC\n",
    "from sklearn.tree import DecisionTreeClassifier\n",
    "from sklearn.ensemble import RandomForestClassifier, AdaBoostClassifier, GradientBoostingClassifier\n",
    "from sklearn.naive_bayes import GaussianNB\n",
    "from sklearn.discriminant_analysis import LinearDiscriminantAnalysis\n",
    "from sklearn.discriminant_analysis import QuadraticDiscriminantAnalysis\n",
    "from xgboost import XGBClassifier\n",
    "import xgboost\n",
    "\n",
    "classifiers = [\n",
    "    KNeighborsClassifier(3),\n",
    "    DecisionTreeClassifier(),\n",
    "    RandomForestClassifier(),\n",
    "    XGBClassifier(),\n",
    "    AdaBoostClassifier(),\n",
    "    GradientBoostingClassifier(),\n",
    "    GaussianNB(),\n",
    "    LinearDiscriminantAnalysis()]\n",
    "\n",
    "# Logging for Visual Comparison\n",
    "log_cols=[\"Classifier\", \"Accuracy\", \"Log Loss\"]\n",
    "log = pd.DataFrame(columns=log_cols)\n",
    "\n",
    "for clf in classifiers:\n",
    "    clf.fit(x_train, y_train)\n",
    "    name = clf.__class__.__name__\n",
    "    \n",
    "    print(\"=\"*30)\n",
    "    print(name)\n",
    "    \n",
    "    train_predictions = clf.predict(x_test)\n",
    "    acc = accuracy_score(y_test, train_predictions)\n",
    "    print(\"Accuracy: {:.4%}\".format(acc))\n",
    "    \n",
    "    train_predictions = clf.predict_proba(x_test)\n",
    "    ll = log_loss(y_test, train_predictions)\n",
    "    print(\"Log Loss: {}\".format(ll))\n",
    "    \n",
    "    log_entry = pd.DataFrame([[name, acc*100, ll]], columns=log_cols)\n",
    "    log = log.append(log_entry)\n",
    "    \n",
    "print(\"=\"*30)"
   ]
  },
  {
   "cell_type": "code",
   "execution_count": 10,
   "id": "2b1f306e",
   "metadata": {
    "execution": {
     "iopub.execute_input": "2022-12-18T10:49:43.455259Z",
     "iopub.status.busy": "2022-12-18T10:49:43.454456Z",
     "iopub.status.idle": "2022-12-18T10:49:44.029633Z",
     "shell.execute_reply": "2022-12-18T10:49:44.028656Z"
    },
    "papermill": {
     "duration": 0.59982,
     "end_time": "2022-12-18T10:49:44.032193",
     "exception": false,
     "start_time": "2022-12-18T10:49:43.432373",
     "status": "completed"
    },
    "tags": []
   },
   "outputs": [
    {
     "data": {
      "image/png": "[encoded data removed]",
      "text/plain": [
       "<Figure size 432x288 with 1 Axes>"
      ]
     },
     "metadata": {
      "needs_background": "light"
     },
     "output_type": "display_data"
    },
    {
     "data": {
      "image/png": "[encoded data removed]",
      "text/plain": [
       "<Figure size 432x288 with 1 Axes>"
      ]
     },
     "metadata": {
      "needs_background": "light"
     },
     "output_type": "display_data"
    }
   ],
   "source": [
    "sns.set_color_codes(\"muted\")\n",
    "sns.barplot(x='Accuracy', y='Classifier', data=log, color=\"b\")\n",
    "\n",
    "plt.xlabel('Accuracy %')\n",
    "plt.title('Classifier Accuracy - Event Classification')\n",
    "plt.show()\n",
    "\n",
    "sns.set_color_codes(\"muted\")\n",
    "sns.barplot(x='Log Loss', y='Classifier', data=log, color=\"g\")\n",
    "\n",
    "plt.xlabel('Log Loss')\n",
    "plt.title('Classifier Log Loss - Event Classification')\n",
    "plt.show()"
   ]
  },
  {
   "cell_type": "code",
   "execution_count": 11,
   "id": "cea87e18",
   "metadata": {
    "execution": {
     "iopub.execute_input": "2022-12-18T10:49:44.051719Z",
     "iopub.status.busy": "2022-12-18T10:49:44.050760Z",
     "iopub.status.idle": "2022-12-18T10:49:44.057922Z",
     "shell.execute_reply": "2022-12-18T10:49:44.056445Z"
    },
    "papermill": {
     "duration": 0.020169,
     "end_time": "2022-12-18T10:49:44.060998",
     "exception": false,
     "start_time": "2022-12-18T10:49:44.040829",
     "status": "completed"
    },
    "tags": []
   },
   "outputs": [
    {
     "name": "stdout",
     "output_type": "stream",
     "text": [
      "289\n",
      "216\n",
      "73\n"
     ]
    }
   ],
   "source": [
    "print(len(y))\n",
    "print(len(y_train))\n",
    "print(len(y_test))"
   ]
  },
  {
   "cell_type": "code",
   "execution_count": 12,
   "id": "1e5db31e",
   "metadata": {
    "execution": {
     "iopub.execute_input": "2022-12-18T10:49:44.081133Z",
     "iopub.status.busy": "2022-12-18T10:49:44.079946Z",
     "iopub.status.idle": "2022-12-18T10:49:45.761980Z",
     "shell.execute_reply": "2022-12-18T10:49:45.760911Z"
    },
    "papermill": {
     "duration": 1.694683,
     "end_time": "2022-12-18T10:49:45.764561",
     "exception": false,
     "start_time": "2022-12-18T10:49:44.069878",
     "status": "completed"
    },
    "tags": []
   },
   "outputs": [
    {
     "name": "stdout",
     "output_type": "stream",
     "text": [
      "0.9863013698630136\n"
     ]
    }
   ],
   "source": [
    "model = XGBClassifier(random_state = 42)\n",
    "\n",
    "model.fit(x_train, y_train)\n",
    "\n",
    "y_pred = model.predict(x_test)\n",
    "\n",
    "print(accuracy_score(y_test, y_pred))"
   ]
  },
  {
   "cell_type": "code",
   "execution_count": 13,
   "id": "62579a0e",
   "metadata": {
    "execution": {
     "iopub.execute_input": "2022-12-18T10:49:45.786914Z",
     "iopub.status.busy": "2022-12-18T10:49:45.786451Z",
     "iopub.status.idle": "2022-12-18T10:49:45.800316Z",
     "shell.execute_reply": "2022-12-18T10:49:45.798809Z"
    },
    "papermill": {
     "duration": 0.029069,
     "end_time": "2022-12-18T10:49:45.804142",
     "exception": false,
     "start_time": "2022-12-18T10:49:45.775073",
     "status": "completed"
    },
    "tags": []
   },
   "outputs": [
    {
     "name": "stdout",
     "output_type": "stream",
     "text": [
      "              precision    recall  f1-score   support\n",
      "\n",
      "           0       1.00      0.89      0.94         9\n",
      "           1       0.97      1.00      0.98        32\n",
      "           2       1.00      1.00      1.00        32\n",
      "\n",
      "    accuracy                           0.99        73\n",
      "   macro avg       0.99      0.96      0.98        73\n",
      "weighted avg       0.99      0.99      0.99        73\n",
      "\n"
     ]
    }
   ],
   "source": [
    "print(classification_report(y_test, y_pred))"
   ]
  },
  {
   "cell_type": "code",
   "execution_count": 14,
   "id": "6dfc1491",
   "metadata": {
    "execution": {
     "iopub.execute_input": "2022-12-18T10:49:45.825336Z",
     "iopub.status.busy": "2022-12-18T10:49:45.824582Z",
     "iopub.status.idle": "2022-12-18T10:49:46.124698Z",
     "shell.execute_reply": "2022-12-18T10:49:46.123193Z"
    },
    "papermill": {
     "duration": 0.313463,
     "end_time": "2022-12-18T10:49:46.127896",
     "exception": false,
     "start_time": "2022-12-18T10:49:45.814433",
     "status": "completed"
    },
    "tags": []
   },
   "outputs": [
    {
     "data": {
      "image/png": "[encoded data removed]",
      "text/plain": [
       "<Figure size 432x288 with 2 Axes>"
      ]
     },
     "metadata": {
      "needs_background": "light"
     },
     "output_type": "display_data"
    },
    {
     "data": {
      "text/plain": [
       "<Figure size 432x288 with 0 Axes>"
      ]
     },
     "metadata": {},
     "output_type": "display_data"
    }
   ],
   "source": [
    "Cm=confusion_matrix(y_test, y_pred)\n",
    "ax=plt.axes()\n",
    "sns.heatmap(Cm, annot = True, annot_kws = {'size':10}, ax = ax)\n",
    "plt.title(\"Confusion Metrics\")\n",
    "ax.set_xlabel('Predicted labels');ax.set_ylabel('True labels'); \n",
    "ax.set_title('Event Classification'); \n",
    "ax.xaxis.set_ticklabels(['Wicket', 'Four', 'Six']); ax.yaxis.set_ticklabels(['Wicket', 'Four', 'Six']);\n",
    "plt.show()\n",
    "plt.savefig('sc_cm.png')"
   ]
  },
  {
   "cell_type": "code",
   "execution_count": 15,
   "id": "c0798303",
   "metadata": {
    "execution": {
     "iopub.execute_input": "2022-12-18T10:49:46.149682Z",
     "iopub.status.busy": "2022-12-18T10:49:46.149252Z",
     "iopub.status.idle": "2022-12-18T10:49:46.174546Z",
     "shell.execute_reply": "2022-12-18T10:49:46.173382Z"
    },
    "papermill": {
     "duration": 0.039397,
     "end_time": "2022-12-18T10:49:46.177447",
     "exception": false,
     "start_time": "2022-12-18T10:49:46.138050",
     "status": "completed"
    },
    "tags": []
   },
   "outputs": [],
   "source": [
    "import matplotlib.pyplot as plt\n",
    "import numpy as np\n",
    "\n",
    "def show_values(pc, fmt=\"%.2f\", **kw):\n",
    "    '''\n",
    "    Heatmap with text in each cell with matplotlib's pyplot\n",
    "    Source: https://stackoverflow.com/a/25074150/395857 \n",
    "    By HYRY\n",
    "    '''\n",
    "    from itertools import izip\n",
    "    pc.update_scalarmappable()\n",
    "    ax = pc.get_axes()\n",
    "    #ax = pc.axes# FOR LATEST MATPLOTLIB\n",
    "    #Use zip BELOW IN PYTHON 3\n",
    "    for p, color, value in izip(pc.get_paths(), pc.get_facecolors(), pc.get_array()):\n",
    "        x, y = p.vertices[:-2, :].mean(0)\n",
    "        if np.all(color[:3] > 0.5):\n",
    "            color = (0.0, 0.0, 0.0)\n",
    "        else:\n",
    "            color = (1.0, 1.0, 1.0)\n",
    "        ax.text(x, y, fmt % value, ha=\"center\", va=\"center\", color=color, **kw)\n",
    "\n",
    "\n",
    "def cm2inch(*tupl):\n",
    "    '''\n",
    "    Specify figure size in centimeter in matplotlib\n",
    "    Source: https://stackoverflow.com/a/22787457/395857\n",
    "    By gns-ank\n",
    "    '''\n",
    "    inch = 2.54\n",
    "    if type(tupl[0]) == tuple:\n",
    "        return tuple(i/inch for i in tupl[0])\n",
    "    else:\n",
    "        return tuple(i/inch for i in tupl)\n",
    "\n",
    "\n",
    "def heatmap(AUC, title, xlabel, ylabel, xticklabels, yticklabels, figure_width=40, figure_height=20, correct_orientation=False, cmap='RdBu'):\n",
    "    '''\n",
    "    Inspired by:\n",
    "    - https://stackoverflow.com/a/16124677/395857 \n",
    "    - https://stackoverflow.com/a/25074150/395857\n",
    "    '''\n",
    "\n",
    "    # Plot it out\n",
    "    fig, ax = plt.subplots()    \n",
    "    #c = ax.pcolor(AUC, edgecolors='k', linestyle= 'dashed', linewidths=0.2, cmap='RdBu', vmin=0.0, vmax=1.0)\n",
    "    c = ax.pcolor(AUC, edgecolors='k', linestyle= 'dashed', linewidths=0.2, cmap=cmap)\n",
    "\n",
    "    # put the major ticks at the middle of each cell\n",
    "    ax.set_yticks(np.arange(AUC.shape[0]) + 0.5, minor=False)\n",
    "    ax.set_xticks(np.arange(AUC.shape[1]) + 0.5, minor=False)\n",
    "\n",
    "    # set tick labels\n",
    "    #ax.set_xticklabels(np.arange(1,AUC.shape[1]+1), minor=False)\n",
    "    ax.set_xticklabels(xticklabels, minor=False)\n",
    "    ax.set_yticklabels(yticklabels, minor=False)\n",
    "\n",
    "    # set title and x/y labels\n",
    "    plt.title(title)\n",
    "    plt.xlabel(xlabel)\n",
    "    plt.ylabel(ylabel)      \n",
    "\n",
    "    # Remove last blank column\n",
    "    plt.xlim( (0, AUC.shape[1]) )\n",
    "\n",
    "    # Turn off all the ticks\n",
    "    ax = plt.gca()    \n",
    "    for t in ax.xaxis.get_major_ticks():\n",
    "        t.tick1On = False\n",
    "        t.tick2On = False\n",
    "    for t in ax.yaxis.get_major_ticks():\n",
    "        t.tick1On = False\n",
    "        t.tick2On = False\n",
    "\n",
    "    # Add color bar\n",
    "    plt.colorbar(c)\n",
    "\n",
    "    # Add text in each cell \n",
    "    show_values(c)\n",
    "\n",
    "    # Proper orientation (origin at the top left instead of bottom left)\n",
    "    if correct_orientation:\n",
    "        ax.invert_yaxis()\n",
    "        ax.xaxis.tick_top()       \n",
    "\n",
    "    # resize \n",
    "    fig = plt.gcf()\n",
    "    #fig.set_size_inches(cm2inch(40, 20))\n",
    "    #fig.set_size_inches(cm2inch(40*4, 20*4))\n",
    "    fig.set_size_inches(cm2inch(figure_width, figure_height))\n",
    "\n",
    "\n",
    "\n",
    "def plot_classification_report(classification_report, title='Event Classification', cmap='RdBu'):\n",
    "    '''\n",
    "    Plot scikit-learn classification report.\n",
    "    Extension based on https://stackoverflow.com/a/31689645/395857 \n",
    "    '''\n",
    "    lines = classification_report.split('\\n')\n",
    "\n",
    "    classes = []\n",
    "    plotMat = []\n",
    "    support = []\n",
    "    class_names = []\n",
    "    for line in lines[2 : (len(lines) - 2)]:\n",
    "        t = line.strip().split()\n",
    "        if len(t) < 2: continue\n",
    "        classes.append(t[0])\n",
    "        v = [float(x) for x in t[1: len(t) - 1]]\n",
    "        support.append(int(t[-1]))\n",
    "        class_names.append(t[0])\n",
    "        print(v)\n",
    "        plotMat.append(v)\n",
    "\n",
    "    print('plotMat: {0}'.format(plotMat))\n",
    "    print('support: {0}'.format(support))\n",
    "\n",
    "    xlabel = 'Metrics'\n",
    "    ylabel = 'Classes'\n",
    "    xticklabels = ['Precision', 'Recall', 'F1-score']\n",
    "    yticklabels = ['{0} ({1})'.format(class_names[idx], sup) for idx, sup  in enumerate(support)]\n",
    "    figure_width = 25\n",
    "    figure_height = len(class_names) + 7\n",
    "    correct_orientation = False\n",
    "    heatmap(np.array(plotMat), title, xlabel, ylabel, xticklabels, yticklabels, figure_width, figure_height, correct_orientation, cmap=cmap)"
   ]
  },
  {
   "cell_type": "code",
   "execution_count": 16,
   "id": "5f2a6e04",
   "metadata": {
    "execution": {
     "iopub.execute_input": "2022-12-18T10:49:46.199655Z",
     "iopub.status.busy": "2022-12-18T10:49:46.199224Z",
     "iopub.status.idle": "2022-12-18T10:49:46.204600Z",
     "shell.execute_reply": "2022-12-18T10:49:46.203613Z"
    },
    "papermill": {
     "duration": 0.020282,
     "end_time": "2022-12-18T10:49:46.207069",
     "exception": false,
     "start_time": "2022-12-18T10:49:46.186787",
     "status": "completed"
    },
    "tags": []
   },
   "outputs": [],
   "source": [
    "# sampleClassificationReport = \"\"\"             precision    recall  f1-score   support\n",
    "\n",
    "#           Wicket       1.00      0.89      0.94         9\n",
    "#           Four       0.97      1.00      0.98        32\n",
    "#           Six       1.00      1.00      1.00        32\n",
    "#           macro avg       0.99      0.99      0.99       595\n",
    "#           weighted avg       0.99      0.99      0.99       595\"\"\"\n",
    "\n",
    "\n",
    "# plot_classification_report(sampleClassificationReport)\n",
    "# plt.savefig('test_plot_classif_report.png', dpi=200, format='png', bbox_inches='tight')\n",
    "# plt.close()"
   ]
  },
  {
   "cell_type": "code",
   "execution_count": 17,
   "id": "a96afc47",
   "metadata": {
    "execution": {
     "iopub.execute_input": "2022-12-18T10:49:46.230062Z",
     "iopub.status.busy": "2022-12-18T10:49:46.229415Z",
     "iopub.status.idle": "2022-12-18T10:49:46.236864Z",
     "shell.execute_reply": "2022-12-18T10:49:46.235467Z"
    },
    "papermill": {
     "duration": 0.022977,
     "end_time": "2022-12-18T10:49:46.239344",
     "exception": false,
     "start_time": "2022-12-18T10:49:46.216367",
     "status": "completed"
    },
    "tags": []
   },
   "outputs": [],
   "source": [
    "def computeAccuracy(df, number_of_features):\n",
    "    pca = PCA(n_components = number_of_features)\n",
    "    \n",
    "    features = np.array(df.drop(columns = 'target'))\n",
    "    features_reduced = pca.fit_transform(features)\n",
    "    \n",
    "    labels = df['target'].tolist()\n",
    "    \n",
    "    x_train, x_test, y_train, y_test = train_test_split(features_reduced, labels, stratify = labels, random_state = 1)\n",
    "    \n",
    "    model = XGBClassifier(random_state = 42)\n",
    "\n",
    "    model.fit(x_train, y_train)\n",
    "    y_pred = model.predict(x_test)\n",
    "    \n",
    "    return accuracy_score(y_test, y_pred);"
   ]
  },
  {
   "cell_type": "code",
   "execution_count": 18,
   "id": "ee14b4ad",
   "metadata": {
    "execution": {
     "iopub.execute_input": "2022-12-18T10:49:46.259905Z",
     "iopub.status.busy": "2022-12-18T10:49:46.258877Z",
     "iopub.status.idle": "2022-12-18T10:49:50.989997Z",
     "shell.execute_reply": "2022-12-18T10:49:50.988884Z"
    },
    "papermill": {
     "duration": 4.744803,
     "end_time": "2022-12-18T10:49:50.993386",
     "exception": false,
     "start_time": "2022-12-18T10:49:46.248583",
     "status": "completed"
    },
    "tags": []
   },
   "outputs": [
    {
     "data": {
      "text/plain": [
       "[0.574468085106383,\n",
       " 0.5957446808510638,\n",
       " 0.5531914893617021,\n",
       " 0.5957446808510638,\n",
       " 0.6382978723404256,\n",
       " 0.6382978723404256,\n",
       " 0.7021276595744681]"
      ]
     },
     "execution_count": 18,
     "metadata": {},
     "output_type": "execute_result"
    }
   ],
   "source": [
    "score = [computeAccuracy(df, i) for i in range(1, 8)]\n",
    "score"
   ]
  },
  {
   "cell_type": "code",
   "execution_count": 19,
   "id": "fc9d384d",
   "metadata": {
    "execution": {
     "iopub.execute_input": "2022-12-18T10:49:51.016239Z",
     "iopub.status.busy": "2022-12-18T10:49:51.015809Z",
     "iopub.status.idle": "2022-12-18T10:49:51.029147Z",
     "shell.execute_reply": "2022-12-18T10:49:51.027650Z"
    },
    "papermill": {
     "duration": 0.027322,
     "end_time": "2022-12-18T10:49:51.031942",
     "exception": false,
     "start_time": "2022-12-18T10:49:51.004620",
     "status": "completed"
    },
    "tags": []
   },
   "outputs": [],
   "source": [
    "space = {\n",
    "        'objective': 'multi:softprob',\n",
    "        'gamma': hp.uniform ('gamma', 1,9),\n",
    "        'reg_alpha' : hp.loguniform('reg_alpha', 1e-8,100),\n",
    "        'reg_lambda' : hp.loguniform('reg_lambda', 1e-8,100),\n",
    "        'colsample_bytree' : hp.uniform('colsample_bytree', 0.1,1),\n",
    "        'min_child_weight' : hp.quniform('min_child_weight', 0, 10, 1),\n",
    "        'n_estimators': 1800,\n",
    "        'seed': 0,\n",
    "        'learning_rate': hp.quniform(\"learning_rate\", 1e-2, 0.25),\n",
    "        'max_depth': hp.uniform('max_depth', 1, 7)\n",
    "}\n",
    "\n",
    "def objective(space, df_train, df_test):\n",
    "    clf = XGBClassifier(\n",
    "                    n_estimators =space['n_estimators'], max_depth = int(space['max_depth']), gamma = space['gamma'],\n",
    "                    reg_alpha = int(space['reg_alpha']), min_child_weight = int(space['min_child_weight']),\n",
    "                    colsample_bytree = int(space['colsample_bytree']))\n",
    "        \n",
    "    xx_train = df_train.drop(columns = ['target'])\n",
    "    yy_train = df_train['target']\n",
    "    \n",
    "    xx_test = df_test.drop(columns = ['target'])\n",
    "    yy_test = df_test['target']\n",
    "    \n",
    "    evaluation = [(xx_train, yy_train), \n",
    "                  (xx_test, yy_test)]\n",
    "    \n",
    "    clf.fit(xx_train, yy_train, eval_set=evaluation, eval_metric=None, early_stopping_rounds=20,verbose=False)\n",
    "    \n",
    "    pred = clf.predict(xx_test)\n",
    "    accuracy = accuracy_score(yy_test, pred)\n",
    "    print (\"SCORE:\", accuracy)\n",
    "    return {'loss': -accuracy, 'status': STATUS_OK }\n",
    "\n",
    "trials = Trials()\n",
    "\n",
    "# best_hyperparams = fmin(fn = objective, space = space, algo = tpe.suggest, max_evals = 100, trials = trials)"
   ]
  },
  {
   "cell_type": "code",
   "execution_count": 20,
   "id": "1b48b1c5",
   "metadata": {
    "execution": {
     "iopub.execute_input": "2022-12-18T10:49:51.053145Z",
     "iopub.status.busy": "2022-12-18T10:49:51.052283Z",
     "iopub.status.idle": "2022-12-18T10:49:51.059939Z",
     "shell.execute_reply": "2022-12-18T10:49:51.058565Z"
    },
    "papermill": {
     "duration": 0.020911,
     "end_time": "2022-12-18T10:49:51.062393",
     "exception": false,
     "start_time": "2022-12-18T10:49:51.041482",
     "status": "completed"
    },
    "tags": []
   },
   "outputs": [
    {
     "name": "stdout",
     "output_type": "stream",
     "text": [
      "1500\n"
     ]
    }
   ],
   "source": [
    "sorted_columns = list(df.columns)\n",
    "sorted_columns.remove('target')\n",
    "sorted_columns = sorted(sorted_columns)\n",
    "\n",
    "final_ordered_features = []\n",
    "\n",
    "for col in sorted_columns:\n",
    "    \n",
    "    final_ordered_features.append(col)\n",
    "\n",
    "print(len(final_ordered_features))"
   ]
  },
  {
   "cell_type": "code",
   "execution_count": 21,
   "id": "565d5fa7",
   "metadata": {
    "execution": {
     "iopub.execute_input": "2022-12-18T10:49:51.084969Z",
     "iopub.status.busy": "2022-12-18T10:49:51.084054Z",
     "iopub.status.idle": "2022-12-18T10:49:51.095371Z",
     "shell.execute_reply": "2022-12-18T10:49:51.093959Z"
    },
    "papermill": {
     "duration": 0.026025,
     "end_time": "2022-12-18T10:49:51.098278",
     "exception": false,
     "start_time": "2022-12-18T10:49:51.072253",
     "status": "completed"
    },
    "tags": []
   },
   "outputs": [],
   "source": [
    "with open('tf_idf_event', 'wb') as files:\n",
    "    pickle.dump(tfidf_vect, files)"
   ]
  },
  {
   "cell_type": "code",
   "execution_count": 22,
   "id": "4482b51e",
   "metadata": {
    "execution": {
     "iopub.execute_input": "2022-12-18T10:49:51.119830Z",
     "iopub.status.busy": "2022-12-18T10:49:51.119143Z",
     "iopub.status.idle": "2022-12-18T10:49:51.140397Z",
     "shell.execute_reply": "2022-12-18T10:49:51.139156Z"
    },
    "papermill": {
     "duration": 0.035204,
     "end_time": "2022-12-18T10:49:51.143251",
     "exception": false,
     "start_time": "2022-12-18T10:49:51.108047",
     "status": "completed"
    },
    "tags": []
   },
   "outputs": [],
   "source": [
    "with open('event_classification', 'wb') as files:\n",
    "    pickle.dump(model, files)"
   ]
  },
  {
   "cell_type": "code",
   "execution_count": 23,
   "id": "80dbef61",
   "metadata": {
    "execution": {
     "iopub.execute_input": "2022-12-18T10:49:51.166929Z",
     "iopub.status.busy": "2022-12-18T10:49:51.165988Z",
     "iopub.status.idle": "2022-12-18T10:49:51.174204Z",
     "shell.execute_reply": "2022-12-18T10:49:51.172840Z"
    },
    "papermill": {
     "duration": 0.022199,
     "end_time": "2022-12-18T10:49:51.176936",
     "exception": false,
     "start_time": "2022-12-18T10:49:51.154737",
     "status": "completed"
    },
    "tags": []
   },
   "outputs": [],
   "source": [
    "with open('final_ordered_event', 'wb') as files:\n",
    "    pickle.dump(final_ordered_features, files)"
   ]
  },
  {
   "cell_type": "code",
   "execution_count": null,
   "id": "b8975e11",
   "metadata": {
    "papermill": {
     "duration": 0.009147,
     "end_time": "2022-12-18T10:49:51.196214",
     "exception": false,
     "start_time": "2022-12-18T10:49:51.187067",
     "status": "completed"
    },
    "tags": []
   },
   "outputs": [],
   "source": []
  }
 ],
 "metadata": {
  "kernelspec": {
   "display_name": "Python 3",
   "language": "python",
   "name": "python3"
  },
  "language_info": {
   "codemirror_mode": {
    "name": "ipython",
    "version": 3
   },
   "file_extension": ".py",
   "mimetype": "text/x-python",
   "name": "python",
   "nbconvert_exporter": "python",
   "pygments_lexer": "ipython3",
   "version": "3.7.12"
  },
  "papermill": {
   "default_parameters": {},
   "duration": 26.876176,
   "end_time": "2022-12-18T10:49:52.230751",
   "environment_variables": {},
   "exception": null,
   "input_path": "__notebook__.ipynb",
   "output_path": "__notebook__.ipynb",
   "parameters": {},
   "start_time": "2022-12-18T10:49:25.354575",
   "version": "2.3.4"
  }
 },
 "nbformat": 4,
 "nbformat_minor": 5
}
